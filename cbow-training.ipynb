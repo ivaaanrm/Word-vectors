{
 "cells": [
  {
   "cell_type": "code",
   "execution_count": 1,
   "id": "1ca11b98",
   "metadata": {
    "_cell_guid": "b1076dfc-b9ad-4769-8c92-a6c4dae69d19",
    "_uuid": "8f2839f25d086af736a60e9eeb907d3b93b6e0e5",
    "execution": {
     "iopub.execute_input": "2025-02-19T14:59:30.486321Z",
     "iopub.status.busy": "2025-02-19T14:59:30.485941Z",
     "iopub.status.idle": "2025-02-19T14:59:32.496878Z",
     "shell.execute_reply": "2025-02-19T14:59:32.495907Z"
    },
    "papermill": {
     "duration": 2.020038,
     "end_time": "2025-02-19T14:59:32.499199",
     "exception": false,
     "start_time": "2025-02-19T14:59:30.479161",
     "status": "completed"
    },
    "tags": []
   },
   "outputs": [],
   "source": [
    "from types import SimpleNamespace\n",
    "from collections import Counter\n",
    "import os\n",
    "import re\n",
    "import pathlib\n",
    "import array\n",
    "import pickle\n",
    "import numpy as np\n",
    "import torch\n",
    "import torch.nn as nn\n",
    "import pandas as pd\n",
    "from tqdm import tqdm\n",
    "import matplotlib.pyplot as plt"
   ]
  },
  {
   "cell_type": "code",
   "execution_count": 2,
   "id": "25c85d33",
   "metadata": {
    "_cell_guid": "79c7e3d0-c299-4dcb-8224-4455121ee9b0",
    "_uuid": "d629ff2d2480ee46fbb7e2d37f6b5fab8052498a",
    "execution": {
     "iopub.execute_input": "2025-02-19T14:59:32.509593Z",
     "iopub.status.busy": "2025-02-19T14:59:32.508843Z",
     "iopub.status.idle": "2025-02-19T14:59:32.513591Z",
     "shell.execute_reply": "2025-02-19T14:59:32.512707Z"
    },
    "papermill": {
     "duration": 0.0117,
     "end_time": "2025-02-19T14:59:32.515326",
     "exception": false,
     "start_time": "2025-02-19T14:59:32.503626",
     "status": "completed"
    },
    "tags": []
   },
   "outputs": [],
   "source": [
    "DATASET_VERSION = 'ca-100'\n",
    "COMPETITION_ROOT = '../input/wordvectors'\n",
    "DATASET_ROOT = f'../input/text-preprocessing/data/{DATASET_VERSION}'\n",
    "WORKING_ROOT = f'data/{DATASET_VERSION}'\n",
    "DATASET_PREFIX = 'ca.wiki'"
   ]
  },
  {
   "cell_type": "code",
   "execution_count": 3,
   "id": "4449f8a5",
   "metadata": {
    "execution": {
     "iopub.execute_input": "2025-02-19T14:59:32.524850Z",
     "iopub.status.busy": "2025-02-19T14:59:32.524558Z",
     "iopub.status.idle": "2025-02-19T14:59:32.529872Z",
     "shell.execute_reply": "2025-02-19T14:59:32.529012Z"
    },
    "papermill": {
     "duration": 0.012044,
     "end_time": "2025-02-19T14:59:32.531622",
     "exception": false,
     "start_time": "2025-02-19T14:59:32.519578",
     "status": "completed"
    },
    "tags": []
   },
   "outputs": [],
   "source": [
    "params = SimpleNamespace(\n",
    "    embedding_dim = 100,\n",
    "    batch_size = 2500, # 1000\n",
    "    epochs = 4,\n",
    "    preprocessed = f'{DATASET_ROOT}/{DATASET_PREFIX}',\n",
    "    working = f'{WORKING_ROOT}/{DATASET_PREFIX}',\n",
    "    modelname = f'{WORKING_ROOT}/{DATASET_VERSION}.pt',\n",
    "    train = True,\n",
    "    weighting_scheme = 'trained_vector', # Options: 'uniform', 'fixed_scalar', 'trained_scalar', 'trained_vector'\n",
    ")"
   ]
  },
  {
   "cell_type": "code",
   "execution_count": 4,
   "id": "0223f278",
   "metadata": {
    "execution": {
     "iopub.execute_input": "2025-02-19T14:59:32.541396Z",
     "iopub.status.busy": "2025-02-19T14:59:32.540698Z",
     "iopub.status.idle": "2025-02-19T14:59:32.549549Z",
     "shell.execute_reply": "2025-02-19T14:59:32.548863Z"
    },
    "jupyter": {
     "source_hidden": true
    },
    "papermill": {
     "duration": 0.015431,
     "end_time": "2025-02-19T14:59:32.551268",
     "exception": false,
     "start_time": "2025-02-19T14:59:32.535837",
     "status": "completed"
    },
    "tags": []
   },
   "outputs": [],
   "source": [
    "class Vocabulary(object):\n",
    "    def __init__(self, pad_token='<pad>', unk_token='<unk>', eos_token='<eos>'):\n",
    "        self.token2idx = {}\n",
    "        self.idx2token = []\n",
    "        self.pad_token = pad_token\n",
    "        self.unk_token = unk_token\n",
    "        self.eos_token = eos_token\n",
    "        if pad_token is not None:\n",
    "            self.pad_index = self.add_token(pad_token)\n",
    "        if unk_token is not None:\n",
    "            self.unk_index = self.add_token(unk_token)\n",
    "        if eos_token is not None:\n",
    "            self.eos_index = self.add_token(eos_token)\n",
    "\n",
    "    def add_token(self, token):\n",
    "        if token not in self.token2idx:\n",
    "            self.idx2token.append(token)\n",
    "            self.token2idx[token] = len(self.idx2token) - 1\n",
    "        return self.token2idx[token]\n",
    "\n",
    "    def get_index(self, token):\n",
    "        if isinstance(token, str):\n",
    "            return self.token2idx.get(token, self.unk_index)\n",
    "        else:\n",
    "            return [self.token2idx.get(t, self.unk_index) for t in token]\n",
    "\n",
    "    def get_token(self, index):\n",
    "        return self.idx2token[index]\n",
    "\n",
    "    def __len__(self):\n",
    "        return len(self.idx2token)\n",
    "\n",
    "    def save(self, filename):\n",
    "        with open(filename, 'wb') as f:\n",
    "            pickle.dump(self.__dict__, f)\n",
    "\n",
    "    def load(self, filename):\n",
    "        with open(filename, 'rb') as f:\n",
    "            self.__dict__.update(pickle.load(f))"
   ]
  },
  {
   "cell_type": "code",
   "execution_count": 5,
   "id": "c851f8c8",
   "metadata": {
    "execution": {
     "iopub.execute_input": "2025-02-19T14:59:32.560487Z",
     "iopub.status.busy": "2025-02-19T14:59:32.560237Z",
     "iopub.status.idle": "2025-02-19T14:59:32.565196Z",
     "shell.execute_reply": "2025-02-19T14:59:32.564387Z"
    },
    "jupyter": {
     "source_hidden": true
    },
    "papermill": {
     "duration": 0.011563,
     "end_time": "2025-02-19T14:59:32.566815",
     "exception": false,
     "start_time": "2025-02-19T14:59:32.555252",
     "status": "completed"
    },
    "tags": []
   },
   "outputs": [],
   "source": [
    "def batch_generator(idata, target, batch_size, shuffle=True):\n",
    "    nsamples = len(idata)\n",
    "    if shuffle:\n",
    "        perm = np.random.permutation(nsamples)\n",
    "    else:\n",
    "        perm = range(nsamples)\n",
    "\n",
    "    for i in range(0, nsamples, batch_size):\n",
    "        batch_idx = perm[i:i+batch_size]\n",
    "        if target is not None:\n",
    "            yield idata[batch_idx], target[batch_idx]\n",
    "        else:\n",
    "            yield idata[batch_idx], None"
   ]
  },
  {
   "cell_type": "markdown",
   "id": "01dc9eaa",
   "metadata": {
    "papermill": {
     "duration": 0.003818,
     "end_time": "2025-02-19T14:59:32.574671",
     "exception": false,
     "start_time": "2025-02-19T14:59:32.570853",
     "status": "completed"
    },
    "tags": []
   },
   "source": [
    "CBOW model\n",
    "----------\n",
    "You can add new parameters to the model in the *\\_\\_init\\_\\_()* method with *self.register_buffer()* (for parameters not to be trained):\n",
    "\n",
    "    self.register_buffer('position_weight', torch.tensor([1,2,3,3,2,1], dtype=torch.float32))\n",
    "\n",
    "or *nn.Parameter()* (for parameters to be trained)\n",
    "\n",
    "    self.position_weight = nn.Parameter(torch.tensor([1,2,3,3,2,1], dtype=torch.float32))\n",
    "    \n",
    "In both cases, you can reference and use them in the *forward* method as\n",
    "\n",
    "    self.position_weight"
   ]
  },
  {
   "cell_type": "code",
   "execution_count": 6,
   "id": "296716fc",
   "metadata": {
    "execution": {
     "iopub.execute_input": "2025-02-19T14:59:32.584090Z",
     "iopub.status.busy": "2025-02-19T14:59:32.583794Z",
     "iopub.status.idle": "2025-02-19T14:59:32.594341Z",
     "shell.execute_reply": "2025-02-19T14:59:32.593587Z"
    },
    "papermill": {
     "duration": 0.017303,
     "end_time": "2025-02-19T14:59:32.596021",
     "exception": false,
     "start_time": "2025-02-19T14:59:32.578718",
     "status": "completed"
    },
    "tags": []
   },
   "outputs": [],
   "source": [
    "class CBOW(nn.Module):\n",
    "    def __init__(self, num_embeddings, embedding_dim, weighting_scheme='uniform'):\n",
    "        super().__init__()\n",
    "        self.emb = nn.Embedding(num_embeddings, embedding_dim, padding_idx=0)\n",
    "        self.lin = nn.Linear(embedding_dim, num_embeddings, bias=False)\n",
    "        self.weighting_scheme = weighting_scheme\n",
    "        self.context_size = 6  # 3 before, 3 after\n",
    "        \n",
    "        if weighting_scheme == 'fixed_scalar':\n",
    "            self.position_weights = torch.tensor([1, 2, 3, 3, 2, 1], dtype=torch.float32)\n",
    "            self.register_buffer('position_weights', self.position_weights)  # Fixed buffer name\n",
    "            \n",
    "        elif weighting_scheme == 'trained_scalar':\n",
    "            self.position_weights = nn.Parameter(torch.ones(self.context_size))  # Initialize with ones\n",
    "            \n",
    "        elif weighting_scheme == 'trained_vector':\n",
    "            self.position_weights = nn.Parameter(torch.ones(self.context_size, embedding_dim))  # Initialize with ones\n",
    "            \n",
    "    def forward(self, input):\n",
    "        # input shape: (batch_size, context_size)\n",
    "        batch_size = input.size(0)\n",
    "        \n",
    "        # Check input dimensions\n",
    "        if input.size(1) != self.context_size:\n",
    "            raise ValueError(f\"Expected input context size of {self.context_size}, got {input.size(1)}\")\n",
    "            \n",
    "        # Embedding lookup: (batch_size, context_size, embedding_dim)\n",
    "        embedded = self.emb(input)\n",
    "        \n",
    "        if self.weighting_scheme == 'uniform':\n",
    "            # Simple average\n",
    "            context_vec = embedded.mean(dim=1)\n",
    "            \n",
    "        elif self.weighting_scheme == 'fixed_scalar':\n",
    "            # Reshape weights for broadcasting: (1, context_size, 1)\n",
    "            weights = self.position_weights.view(1, -1, 1)\n",
    "            context_vec = (embedded * weights).sum(dim=1)\n",
    "            context_vec = context_vec / weights.sum()  # Normalize\n",
    "            \n",
    "        elif self.weighting_scheme == 'trained_scalar':\n",
    "            # Reshape weights for broadcasting: (1, context_size, 1)\n",
    "            weights = self.position_weights.view(1, -1, 1)\n",
    "            context_vec = (embedded * weights).sum(dim=1)\n",
    "            context_vec = context_vec / weights.sum()  # Normalize\n",
    "            \n",
    "        elif self.weighting_scheme == 'trained_vector':\n",
    "            # Reshape weights for broadcasting: (1, context_size, embedding_dim)\n",
    "            weights = self.position_weights.view(1, self.context_size, -1)\n",
    "            context_vec = (embedded * weights).sum(dim=1)\n",
    "            context_vec = context_vec / weights.sum(dim=1)  # Normalize\n",
    "            \n",
    "        else:\n",
    "            raise ValueError(f\"Unknown weighting scheme: {self.weighting_scheme}\")\n",
    "        \n",
    "        # Final prediction: (batch_size, num_embeddings)\n",
    "        output = self.lin(context_vec)\n",
    "        \n",
    "        return output"
   ]
  },
  {
   "cell_type": "markdown",
   "id": "d2b9866f",
   "metadata": {
    "papermill": {
     "duration": 0.005172,
     "end_time": "2025-02-19T14:59:32.605261",
     "exception": false,
     "start_time": "2025-02-19T14:59:32.600089",
     "status": "completed"
    },
    "tags": []
   },
   "source": [
    "We can visually show how this model works:\n",
    "\n",
    "<div style=\"text-align:center\">\n",
    "    <img src=\"https://drive.google.com/uc?id=1INeftgKRCS0QWZu9InCDZ42a5fph3jQX\" alt=\"drawing\" width=\"800\" height=\"800\"/>\n",
    "</div>\n",
    "\n",
    "We train the model to learn matrices $\\mathbf{E}$ and $\\mathbf{W}$. Probabilities $P(w_t|w_{c-m},\\cdots,w_{c+m})$ can be obtained by applying the softmax function to the output vector $\\mathbf{z}$. However, our loss function [nn.CrossEntropyLoss()](https://pytorch.org/docs/stable/generated/torch.nn.CrossEntropyLoss.html) takes care of this.\n"
   ]
  },
  {
   "cell_type": "code",
   "execution_count": 7,
   "id": "a1d03f69",
   "metadata": {
    "execution": {
     "iopub.execute_input": "2025-02-19T14:59:32.614507Z",
     "iopub.status.busy": "2025-02-19T14:59:32.614207Z",
     "iopub.status.idle": "2025-02-19T14:59:32.619623Z",
     "shell.execute_reply": "2025-02-19T14:59:32.618923Z"
    },
    "papermill": {
     "duration": 0.012138,
     "end_time": "2025-02-19T14:59:32.621386",
     "exception": false,
     "start_time": "2025-02-19T14:59:32.609248",
     "status": "completed"
    },
    "tags": []
   },
   "outputs": [],
   "source": [
    "def load_preprocessed_dataset(prefix):\n",
    "    # Try loading precomputed vocabulary and preprocessed data files\n",
    "    token_vocab = Vocabulary()\n",
    "    token_vocab.load(f'{prefix}.vocab')\n",
    "    data = []\n",
    "    for part in ['train', 'valid', 'test']:\n",
    "        with np.load(f'{prefix}.{part}.npz') as set_data:\n",
    "            idata, target = set_data['idata'], set_data['target']\n",
    "            data.append((idata, target))\n",
    "            print(f'Number of samples ({part}): {len(target)}')\n",
    "    print(\"Using precomputed vocabulary and data files\")\n",
    "    print(f'Vocabulary size: {len(token_vocab)}')\n",
    "    return token_vocab, data"
   ]
  },
  {
   "cell_type": "code",
   "execution_count": 8,
   "id": "cd7072f1",
   "metadata": {
    "execution": {
     "iopub.execute_input": "2025-02-19T14:59:32.631114Z",
     "iopub.status.busy": "2025-02-19T14:59:32.630808Z",
     "iopub.status.idle": "2025-02-19T14:59:32.638319Z",
     "shell.execute_reply": "2025-02-19T14:59:32.637538Z"
    },
    "papermill": {
     "duration": 0.014419,
     "end_time": "2025-02-19T14:59:32.640013",
     "exception": false,
     "start_time": "2025-02-19T14:59:32.625594",
     "status": "completed"
    },
    "tags": []
   },
   "outputs": [],
   "source": [
    "def train(model, criterion, optimizer, idata, target, batch_size, device, log=False):\n",
    "    model.train()\n",
    "    total_loss = 0\n",
    "    ncorrect = 0\n",
    "    ntokens = 0\n",
    "    niterations = 0\n",
    "    for X, y in batch_generator(idata, target, batch_size, shuffle=True):\n",
    "        # Get input and target sequences from batch\n",
    "        X = torch.tensor(X, dtype=torch.long, device=device)\n",
    "        y = torch.tensor(y, dtype=torch.long, device=device)\n",
    "\n",
    "        model.zero_grad()\n",
    "        output = model(X)\n",
    "        loss = criterion(output, y)\n",
    "        loss.backward()\n",
    "        optimizer.step()\n",
    "        # Training statistics\n",
    "        total_loss += loss.item()\n",
    "        ncorrect += (torch.max(output, 1)[1] == y).sum().item()\n",
    "        ntokens += y.numel()\n",
    "        niterations += 1\n",
    "        if niterations == 200 or niterations == 500 or niterations % 1000 == 0:\n",
    "            print(f'Train: wpb={ntokens//niterations}, num_updates={niterations}, accuracy={100*ncorrect/ntokens:.1f}, loss={total_loss/ntokens:.2f}')\n",
    "\n",
    "    total_loss = total_loss / ntokens\n",
    "    accuracy = 100 * ncorrect / ntokens\n",
    "    if log:\n",
    "        print(f'Train: wpb={ntokens//niterations}, num_updates={niterations}, accuracy={accuracy:.1f}, loss={total_loss:.2f}')\n",
    "    return accuracy, total_loss"
   ]
  },
  {
   "cell_type": "code",
   "execution_count": 9,
   "id": "f70c6178",
   "metadata": {
    "execution": {
     "iopub.execute_input": "2025-02-19T14:59:32.649255Z",
     "iopub.status.busy": "2025-02-19T14:59:32.648996Z",
     "iopub.status.idle": "2025-02-19T14:59:32.656347Z",
     "shell.execute_reply": "2025-02-19T14:59:32.655596Z"
    },
    "papermill": {
     "duration": 0.013947,
     "end_time": "2025-02-19T14:59:32.658117",
     "exception": false,
     "start_time": "2025-02-19T14:59:32.644170",
     "status": "completed"
    },
    "tags": []
   },
   "outputs": [],
   "source": [
    "def validate(model, criterion, idata, target, batch_size, device):\n",
    "    model.eval()\n",
    "    total_loss = 0\n",
    "    ncorrect = 0\n",
    "    ntokens = 0\n",
    "    niterations = 0\n",
    "    y_pred = []\n",
    "    with torch.no_grad():\n",
    "        for X, y in batch_generator(idata, target, batch_size, shuffle=False):\n",
    "            # Get input and target sequences from batch\n",
    "            X = torch.tensor(X, dtype=torch.long, device=device)\n",
    "            output = model(X)\n",
    "            if target is not None:\n",
    "                y = torch.tensor(y, dtype=torch.long, device=device)\n",
    "                loss = criterion(output, y)\n",
    "                total_loss += loss.item()\n",
    "                ncorrect += (torch.max(output, 1)[1] == y).sum().item()\n",
    "                ntokens += y.numel()\n",
    "                niterations += 1\n",
    "            else:\n",
    "                pred = torch.max(output, 1)[1].detach().to('cpu').numpy()\n",
    "                y_pred.append(pred)\n",
    "\n",
    "    if target is not None:\n",
    "        total_loss = total_loss / ntokens\n",
    "        accuracy = 100 * ncorrect / ntokens\n",
    "        return accuracy, total_loss\n",
    "    else:\n",
    "        return np.concatenate(y_pred)"
   ]
  },
  {
   "cell_type": "code",
   "execution_count": 10,
   "id": "0f45b699",
   "metadata": {
    "execution": {
     "iopub.execute_input": "2025-02-19T14:59:32.667599Z",
     "iopub.status.busy": "2025-02-19T14:59:32.667316Z",
     "iopub.status.idle": "2025-02-19T14:59:32.671435Z",
     "shell.execute_reply": "2025-02-19T14:59:32.670620Z"
    },
    "papermill": {
     "duration": 0.010707,
     "end_time": "2025-02-19T14:59:32.673052",
     "exception": false,
     "start_time": "2025-02-19T14:59:32.662345",
     "status": "completed"
    },
    "tags": []
   },
   "outputs": [],
   "source": [
    "# Create working dir\n",
    "pathlib.Path(WORKING_ROOT).mkdir(parents=True, exist_ok=True)"
   ]
  },
  {
   "cell_type": "code",
   "execution_count": 11,
   "id": "84b6c185",
   "metadata": {
    "execution": {
     "iopub.execute_input": "2025-02-19T14:59:32.682182Z",
     "iopub.status.busy": "2025-02-19T14:59:32.681926Z",
     "iopub.status.idle": "2025-02-19T14:59:32.749773Z",
     "shell.execute_reply": "2025-02-19T14:59:32.748851Z"
    },
    "papermill": {
     "duration": 0.074346,
     "end_time": "2025-02-19T14:59:32.751502",
     "exception": false,
     "start_time": "2025-02-19T14:59:32.677156",
     "status": "completed"
    },
    "tags": []
   },
   "outputs": [],
   "source": [
    "# Select device\n",
    "if torch.cuda.is_available():\n",
    "    device = torch.device('cuda')\n",
    "else:\n",
    "    device = torch.device('cpu')\n",
    "    print(\"WARNING: Training without GPU can be very slow!\")"
   ]
  },
  {
   "cell_type": "code",
   "execution_count": 12,
   "id": "83acd353",
   "metadata": {
    "execution": {
     "iopub.execute_input": "2025-02-19T14:59:32.761027Z",
     "iopub.status.busy": "2025-02-19T14:59:32.760727Z",
     "iopub.status.idle": "2025-02-19T14:59:51.324917Z",
     "shell.execute_reply": "2025-02-19T14:59:51.324052Z"
    },
    "papermill": {
     "duration": 18.571572,
     "end_time": "2025-02-19T14:59:51.327375",
     "exception": false,
     "start_time": "2025-02-19T14:59:32.755803",
     "status": "completed"
    },
    "tags": []
   },
   "outputs": [
    {
     "name": "stdout",
     "output_type": "stream",
     "text": [
      "Number of samples (train): 82284341\n",
      "Number of samples (valid): 164765\n",
      "Number of samples (test): 165837\n",
      "Using precomputed vocabulary and data files\n",
      "Vocabulary size: 100002\n"
     ]
    }
   ],
   "source": [
    "vocab, data = load_preprocessed_dataset(params.preprocessed)"
   ]
  },
  {
   "cell_type": "code",
   "execution_count": 13,
   "id": "ccc89761",
   "metadata": {
    "execution": {
     "iopub.execute_input": "2025-02-19T14:59:51.337409Z",
     "iopub.status.busy": "2025-02-19T14:59:51.337113Z",
     "iopub.status.idle": "2025-02-19T14:59:51.480193Z",
     "shell.execute_reply": "2025-02-19T14:59:51.479481Z"
    },
    "papermill": {
     "duration": 0.150175,
     "end_time": "2025-02-19T14:59:51.482191",
     "exception": false,
     "start_time": "2025-02-19T14:59:51.332016",
     "status": "completed"
    },
    "tags": []
   },
   "outputs": [],
   "source": [
    "# 'El Periodico' validation dataset\n",
    "valid_x_df = pd.read_csv(f'{COMPETITION_ROOT}/x_valid.csv')\n",
    "tokens = valid_x_df.columns[1:]\n",
    "valid_x = valid_x_df[tokens].apply(vocab.get_index).to_numpy(dtype='int32')\n",
    "valid_y_df = pd.read_csv(f'{COMPETITION_ROOT}/y_valid.csv')\n",
    "valid_y = valid_y_df['token'].apply(vocab.get_index).to_numpy(dtype='int32')"
   ]
  },
  {
   "cell_type": "code",
   "execution_count": 14,
   "id": "096fd350",
   "metadata": {
    "execution": {
     "iopub.execute_input": "2025-02-19T14:59:51.491987Z",
     "iopub.status.busy": "2025-02-19T14:59:51.491699Z",
     "iopub.status.idle": "2025-02-19T14:59:51.601284Z",
     "shell.execute_reply": "2025-02-19T14:59:51.600564Z"
    },
    "papermill": {
     "duration": 0.116775,
     "end_time": "2025-02-19T14:59:51.603427",
     "exception": false,
     "start_time": "2025-02-19T14:59:51.486652",
     "status": "completed"
    },
    "tags": []
   },
   "outputs": [],
   "source": [
    "# 'El Periodico' test dataset\n",
    "valid_x_df = pd.read_csv(f'{COMPETITION_ROOT}/x_test.csv')\n",
    "test_x = valid_x_df[tokens].apply(vocab.get_index).to_numpy(dtype='int32')"
   ]
  },
  {
   "cell_type": "code",
   "execution_count": 15,
   "id": "aedce1eb",
   "metadata": {
    "execution": {
     "iopub.execute_input": "2025-02-19T14:59:51.613354Z",
     "iopub.status.busy": "2025-02-19T14:59:51.613073Z",
     "iopub.status.idle": "2025-02-19T14:59:54.791588Z",
     "shell.execute_reply": "2025-02-19T14:59:54.790192Z"
    },
    "papermill": {
     "duration": 3.185686,
     "end_time": "2025-02-19T14:59:54.793656",
     "exception": false,
     "start_time": "2025-02-19T14:59:51.607970",
     "status": "completed"
    },
    "tags": []
   },
   "outputs": [
    {
     "name": "stdout",
     "output_type": "stream",
     "text": [
      "CBOW(\n",
      "  (emb): Embedding(100002, 100, padding_idx=0)\n",
      "  (lin): Linear(in_features=100, out_features=100002, bias=False)\n",
      ")\n",
      "emb.weight           10000200 [100002, 100]\n",
      "lin.weight           10000200 [100002, 100]\n",
      "TOTAL                20000400\n"
     ]
    }
   ],
   "source": [
    "model = CBOW(len(vocab), params.embedding_dim).to(device)\n",
    "print(model)\n",
    "for name, param in model.named_parameters():\n",
    "    print(f'{name:20} {param.numel()} {list(param.shape)}')\n",
    "print(f'TOTAL                {sum(p.numel() for p in model.parameters())}')"
   ]
  },
  {
   "cell_type": "markdown",
   "id": "8819d8c8",
   "metadata": {
    "papermill": {
     "duration": 0.004077,
     "end_time": "2025-02-19T14:59:54.802263",
     "exception": false,
     "start_time": "2025-02-19T14:59:54.798186",
     "status": "completed"
    },
    "tags": []
   },
   "source": [
    "Note that $\\textit{lin}$ layer transposes $\\textit{lin.weight}$ before performing the multilplication."
   ]
  },
  {
   "cell_type": "markdown",
   "id": "3ccbb649",
   "metadata": {
    "papermill": {
     "duration": 0.003932,
     "end_time": "2025-02-19T14:59:54.810303",
     "exception": false,
     "start_time": "2025-02-19T14:59:54.806371",
     "status": "completed"
    },
    "tags": []
   },
   "source": [
    "The [nn.CrossEntropyLoss()](https://pytorch.org/docs/stable/generated/torch.nn.CrossEntropyLoss.html) criterion combines *nn.LogSoftmax()* and *nn.NLLLoss()* in one single class."
   ]
  },
  {
   "cell_type": "code",
   "execution_count": 16,
   "id": "5ea94a50",
   "metadata": {
    "execution": {
     "iopub.execute_input": "2025-02-19T14:59:54.820014Z",
     "iopub.status.busy": "2025-02-19T14:59:54.819650Z",
     "iopub.status.idle": "2025-02-19T14:59:54.824234Z",
     "shell.execute_reply": "2025-02-19T14:59:54.823336Z"
    },
    "papermill": {
     "duration": 0.011724,
     "end_time": "2025-02-19T14:59:54.826232",
     "exception": false,
     "start_time": "2025-02-19T14:59:54.814508",
     "status": "completed"
    },
    "tags": []
   },
   "outputs": [],
   "source": [
    "criterion = nn.CrossEntropyLoss(reduction='sum')"
   ]
  },
  {
   "cell_type": "code",
   "execution_count": 17,
   "id": "20d31dde",
   "metadata": {
    "execution": {
     "iopub.execute_input": "2025-02-19T14:59:54.839181Z",
     "iopub.status.busy": "2025-02-19T14:59:54.838821Z",
     "iopub.status.idle": "2025-02-19T16:54:09.338037Z",
     "shell.execute_reply": "2025-02-19T16:54:09.337194Z"
    },
    "papermill": {
     "duration": 6854.509907,
     "end_time": "2025-02-19T16:54:09.340382",
     "exception": false,
     "start_time": "2025-02-19T14:59:54.830475",
     "status": "completed"
    },
    "tags": []
   },
   "outputs": [
    {
     "name": "stdout",
     "output_type": "stream",
     "text": [
      "Train: wpb=2500, num_updates=200, accuracy=3.5, loss=9.90\n",
      "Train: wpb=2500, num_updates=500, accuracy=5.9, loss=8.48\n",
      "Train: wpb=2500, num_updates=1000, accuracy=8.2, loss=7.77\n",
      "Train: wpb=2500, num_updates=2000, accuracy=10.9, loss=7.20\n",
      "Train: wpb=2500, num_updates=3000, accuracy=12.6, loss=6.91\n",
      "Train: wpb=2500, num_updates=4000, accuracy=13.8, loss=6.71\n",
      "Train: wpb=2500, num_updates=5000, accuracy=14.8, loss=6.57\n",
      "Train: wpb=2500, num_updates=6000, accuracy=15.6, loss=6.45\n",
      "Train: wpb=2500, num_updates=7000, accuracy=16.2, loss=6.36\n",
      "Train: wpb=2500, num_updates=8000, accuracy=16.8, loss=6.28\n",
      "Train: wpb=2500, num_updates=9000, accuracy=17.3, loss=6.22\n",
      "Train: wpb=2500, num_updates=10000, accuracy=17.7, loss=6.16\n",
      "Train: wpb=2500, num_updates=11000, accuracy=18.1, loss=6.10\n",
      "Train: wpb=2500, num_updates=12000, accuracy=18.4, loss=6.06\n",
      "Train: wpb=2500, num_updates=13000, accuracy=18.7, loss=6.01\n",
      "Train: wpb=2500, num_updates=14000, accuracy=19.0, loss=5.98\n",
      "Train: wpb=2500, num_updates=15000, accuracy=19.2, loss=5.94\n",
      "Train: wpb=2500, num_updates=16000, accuracy=19.5, loss=5.91\n",
      "Train: wpb=2500, num_updates=17000, accuracy=19.7, loss=5.88\n",
      "Train: wpb=2500, num_updates=18000, accuracy=19.9, loss=5.85\n",
      "Train: wpb=2500, num_updates=19000, accuracy=20.1, loss=5.82\n",
      "Train: wpb=2500, num_updates=20000, accuracy=20.2, loss=5.80\n",
      "Train: wpb=2500, num_updates=21000, accuracy=20.4, loss=5.77\n",
      "Train: wpb=2500, num_updates=22000, accuracy=20.6, loss=5.75\n",
      "Train: wpb=2500, num_updates=23000, accuracy=20.7, loss=5.73\n",
      "Train: wpb=2500, num_updates=24000, accuracy=20.8, loss=5.71\n",
      "Train: wpb=2500, num_updates=25000, accuracy=21.0, loss=5.69\n",
      "Train: wpb=2500, num_updates=26000, accuracy=21.1, loss=5.67\n",
      "Train: wpb=2500, num_updates=27000, accuracy=21.2, loss=5.66\n",
      "Train: wpb=2500, num_updates=28000, accuracy=21.3, loss=5.64\n",
      "Train: wpb=2500, num_updates=29000, accuracy=21.4, loss=5.62\n",
      "Train: wpb=2500, num_updates=30000, accuracy=21.5, loss=5.61\n",
      "Train: wpb=2500, num_updates=31000, accuracy=21.6, loss=5.60\n",
      "Train: wpb=2500, num_updates=32000, accuracy=21.7, loss=5.58\n",
      "Train: wpb=2499, num_updates=32914, accuracy=21.8, loss=5.57\n",
      "| epoch 000 | train accuracy=21.8%, train loss=5.57\n",
      "| epoch 000 | valid accuracy=22.6%, valid loss=5.33 (wikipedia)\n",
      "| epoch 000 | valid accuracy=14.9%, valid loss=6.20 (El Periódico)\n",
      "Train: wpb=2500, num_updates=200, accuracy=24.9, loss=5.07\n",
      "Train: wpb=2500, num_updates=500, accuracy=24.8, loss=5.08\n",
      "Train: wpb=2500, num_updates=1000, accuracy=24.8, loss=5.08\n",
      "Train: wpb=2500, num_updates=2000, accuracy=24.9, loss=5.07\n",
      "Train: wpb=2500, num_updates=3000, accuracy=24.9, loss=5.07\n",
      "Train: wpb=2500, num_updates=4000, accuracy=24.9, loss=5.07\n",
      "Train: wpb=2500, num_updates=5000, accuracy=24.9, loss=5.07\n",
      "Train: wpb=2500, num_updates=6000, accuracy=25.0, loss=5.06\n",
      "Train: wpb=2500, num_updates=7000, accuracy=25.0, loss=5.06\n",
      "Train: wpb=2500, num_updates=8000, accuracy=25.0, loss=5.06\n",
      "Train: wpb=2500, num_updates=9000, accuracy=25.0, loss=5.06\n",
      "Train: wpb=2500, num_updates=10000, accuracy=25.0, loss=5.05\n",
      "Train: wpb=2500, num_updates=11000, accuracy=25.1, loss=5.05\n",
      "Train: wpb=2500, num_updates=12000, accuracy=25.1, loss=5.05\n",
      "Train: wpb=2500, num_updates=13000, accuracy=25.1, loss=5.04\n",
      "Train: wpb=2500, num_updates=14000, accuracy=25.1, loss=5.04\n",
      "Train: wpb=2500, num_updates=15000, accuracy=25.1, loss=5.04\n",
      "Train: wpb=2500, num_updates=16000, accuracy=25.1, loss=5.04\n",
      "Train: wpb=2500, num_updates=17000, accuracy=25.2, loss=5.03\n",
      "Train: wpb=2500, num_updates=18000, accuracy=25.2, loss=5.03\n",
      "Train: wpb=2500, num_updates=19000, accuracy=25.2, loss=5.03\n",
      "Train: wpb=2500, num_updates=20000, accuracy=25.2, loss=5.03\n",
      "Train: wpb=2500, num_updates=21000, accuracy=25.2, loss=5.02\n",
      "Train: wpb=2500, num_updates=22000, accuracy=25.2, loss=5.02\n",
      "Train: wpb=2500, num_updates=23000, accuracy=25.2, loss=5.02\n",
      "Train: wpb=2500, num_updates=24000, accuracy=25.3, loss=5.02\n",
      "Train: wpb=2500, num_updates=25000, accuracy=25.3, loss=5.01\n",
      "Train: wpb=2500, num_updates=26000, accuracy=25.3, loss=5.01\n",
      "Train: wpb=2500, num_updates=27000, accuracy=25.3, loss=5.01\n",
      "Train: wpb=2500, num_updates=28000, accuracy=25.3, loss=5.01\n",
      "Train: wpb=2500, num_updates=29000, accuracy=25.3, loss=5.00\n",
      "Train: wpb=2500, num_updates=30000, accuracy=25.3, loss=5.00\n",
      "Train: wpb=2500, num_updates=31000, accuracy=25.3, loss=5.00\n",
      "Train: wpb=2500, num_updates=32000, accuracy=25.4, loss=5.00\n",
      "Train: wpb=2499, num_updates=32914, accuracy=25.4, loss=5.00\n",
      "| epoch 001 | train accuracy=25.4%, train loss=5.00\n",
      "| epoch 001 | valid accuracy=23.6%, valid loss=5.14 (wikipedia)\n",
      "| epoch 001 | valid accuracy=15.4%, valid loss=6.08 (El Periódico)\n",
      "Train: wpb=2500, num_updates=200, accuracy=26.1, loss=4.86\n",
      "Train: wpb=2500, num_updates=500, accuracy=26.0, loss=4.86\n",
      "Train: wpb=2500, num_updates=1000, accuracy=26.0, loss=4.87\n",
      "Train: wpb=2500, num_updates=2000, accuracy=26.0, loss=4.87\n",
      "Train: wpb=2500, num_updates=3000, accuracy=26.0, loss=4.87\n",
      "Train: wpb=2500, num_updates=4000, accuracy=25.9, loss=4.87\n",
      "Train: wpb=2500, num_updates=5000, accuracy=26.0, loss=4.87\n",
      "Train: wpb=2500, num_updates=6000, accuracy=26.0, loss=4.87\n",
      "Train: wpb=2500, num_updates=7000, accuracy=26.0, loss=4.87\n",
      "Train: wpb=2500, num_updates=8000, accuracy=26.0, loss=4.87\n",
      "Train: wpb=2500, num_updates=9000, accuracy=26.0, loss=4.87\n",
      "Train: wpb=2500, num_updates=10000, accuracy=26.0, loss=4.87\n",
      "Train: wpb=2500, num_updates=11000, accuracy=26.0, loss=4.87\n",
      "Train: wpb=2500, num_updates=12000, accuracy=26.0, loss=4.87\n",
      "Train: wpb=2500, num_updates=13000, accuracy=26.0, loss=4.87\n",
      "Train: wpb=2500, num_updates=14000, accuracy=26.0, loss=4.87\n",
      "Train: wpb=2500, num_updates=15000, accuracy=26.0, loss=4.87\n",
      "Train: wpb=2500, num_updates=16000, accuracy=26.0, loss=4.86\n",
      "Train: wpb=2500, num_updates=17000, accuracy=26.0, loss=4.86\n",
      "Train: wpb=2500, num_updates=18000, accuracy=26.0, loss=4.86\n",
      "Train: wpb=2500, num_updates=19000, accuracy=26.0, loss=4.86\n",
      "Train: wpb=2500, num_updates=20000, accuracy=26.0, loss=4.86\n",
      "Train: wpb=2500, num_updates=21000, accuracy=26.0, loss=4.86\n",
      "Train: wpb=2500, num_updates=22000, accuracy=26.0, loss=4.86\n",
      "Train: wpb=2500, num_updates=23000, accuracy=26.1, loss=4.86\n",
      "Train: wpb=2500, num_updates=24000, accuracy=26.1, loss=4.86\n",
      "Train: wpb=2500, num_updates=25000, accuracy=26.1, loss=4.86\n",
      "Train: wpb=2500, num_updates=26000, accuracy=26.1, loss=4.86\n",
      "Train: wpb=2500, num_updates=27000, accuracy=26.1, loss=4.86\n",
      "Train: wpb=2500, num_updates=28000, accuracy=26.1, loss=4.86\n",
      "Train: wpb=2500, num_updates=29000, accuracy=26.1, loss=4.86\n",
      "Train: wpb=2500, num_updates=30000, accuracy=26.1, loss=4.86\n",
      "Train: wpb=2500, num_updates=31000, accuracy=26.1, loss=4.86\n",
      "Train: wpb=2500, num_updates=32000, accuracy=26.1, loss=4.86\n",
      "Train: wpb=2499, num_updates=32914, accuracy=26.1, loss=4.85\n",
      "| epoch 002 | train accuracy=26.1%, train loss=4.85\n",
      "| epoch 002 | valid accuracy=24.1%, valid loss=5.06 (wikipedia)\n",
      "| epoch 002 | valid accuracy=15.6%, valid loss=6.02 (El Periódico)\n",
      "Train: wpb=2500, num_updates=200, accuracy=26.4, loss=4.78\n",
      "Train: wpb=2500, num_updates=500, accuracy=26.4, loss=4.77\n",
      "Train: wpb=2500, num_updates=1000, accuracy=26.4, loss=4.77\n",
      "Train: wpb=2500, num_updates=2000, accuracy=26.4, loss=4.78\n",
      "Train: wpb=2500, num_updates=3000, accuracy=26.4, loss=4.78\n",
      "Train: wpb=2500, num_updates=4000, accuracy=26.4, loss=4.78\n",
      "Train: wpb=2500, num_updates=5000, accuracy=26.4, loss=4.78\n",
      "Train: wpb=2500, num_updates=6000, accuracy=26.4, loss=4.78\n",
      "Train: wpb=2500, num_updates=7000, accuracy=26.4, loss=4.78\n",
      "Train: wpb=2500, num_updates=8000, accuracy=26.4, loss=4.78\n",
      "Train: wpb=2500, num_updates=9000, accuracy=26.4, loss=4.78\n",
      "Train: wpb=2500, num_updates=10000, accuracy=26.4, loss=4.78\n",
      "Train: wpb=2500, num_updates=11000, accuracy=26.4, loss=4.78\n",
      "Train: wpb=2500, num_updates=12000, accuracy=26.4, loss=4.78\n",
      "Train: wpb=2500, num_updates=13000, accuracy=26.4, loss=4.78\n",
      "Train: wpb=2500, num_updates=14000, accuracy=26.4, loss=4.78\n",
      "Train: wpb=2500, num_updates=15000, accuracy=26.4, loss=4.78\n",
      "Train: wpb=2500, num_updates=16000, accuracy=26.4, loss=4.78\n",
      "Train: wpb=2500, num_updates=17000, accuracy=26.4, loss=4.78\n",
      "Train: wpb=2500, num_updates=18000, accuracy=26.4, loss=4.78\n",
      "Train: wpb=2500, num_updates=19000, accuracy=26.4, loss=4.78\n",
      "Train: wpb=2500, num_updates=20000, accuracy=26.4, loss=4.78\n",
      "Train: wpb=2500, num_updates=21000, accuracy=26.4, loss=4.78\n",
      "Train: wpb=2500, num_updates=22000, accuracy=26.4, loss=4.78\n",
      "Train: wpb=2500, num_updates=23000, accuracy=26.4, loss=4.78\n",
      "Train: wpb=2500, num_updates=24000, accuracy=26.4, loss=4.78\n",
      "Train: wpb=2500, num_updates=25000, accuracy=26.4, loss=4.78\n",
      "Train: wpb=2500, num_updates=26000, accuracy=26.4, loss=4.78\n",
      "Train: wpb=2500, num_updates=27000, accuracy=26.4, loss=4.78\n",
      "Train: wpb=2500, num_updates=28000, accuracy=26.5, loss=4.78\n",
      "Train: wpb=2500, num_updates=29000, accuracy=26.5, loss=4.78\n",
      "Train: wpb=2500, num_updates=30000, accuracy=26.5, loss=4.78\n",
      "Train: wpb=2500, num_updates=31000, accuracy=26.5, loss=4.78\n",
      "Train: wpb=2500, num_updates=32000, accuracy=26.5, loss=4.78\n",
      "Train: wpb=2499, num_updates=32914, accuracy=26.5, loss=4.78\n",
      "| epoch 003 | train accuracy=26.5%, train loss=4.78\n",
      "| epoch 003 | valid accuracy=24.2%, valid loss=5.02 (wikipedia)\n",
      "| epoch 003 | valid accuracy=15.9%, valid loss=6.00 (El Periódico)\n"
     ]
    }
   ],
   "source": [
    "optimizer = torch.optim.Adam(model.parameters())\n",
    "\n",
    "train_accuracy = []\n",
    "wiki_accuracy = []\n",
    "valid_accuracy = []\n",
    "for epoch in range(params.epochs):\n",
    "    acc, loss = train(model, criterion, optimizer, data[0][0], data[0][1], params.batch_size, device, log=True)\n",
    "    train_accuracy.append(acc)\n",
    "    print(f'| epoch {epoch:03d} | train accuracy={acc:.1f}%, train loss={loss:.2f}')\n",
    "    acc, loss = validate(model, criterion, data[1][0], data[1][1], params.batch_size, device)\n",
    "    wiki_accuracy.append(acc)\n",
    "    print(f'| epoch {epoch:03d} | valid accuracy={acc:.1f}%, valid loss={loss:.2f} (wikipedia)')\n",
    "    acc, loss = validate(model, criterion, valid_x, valid_y, params.batch_size, device)\n",
    "    valid_accuracy.append(acc)\n",
    "    print(f'| epoch {epoch:03d} | valid accuracy={acc:.1f}%, valid loss={loss:.2f} (El Periódico)')\n",
    "\n",
    "# Save model\n",
    "torch.save(model.state_dict(), params.modelname)"
   ]
  },
  {
   "cell_type": "code",
   "execution_count": 18,
   "id": "77211285",
   "metadata": {
    "execution": {
     "iopub.execute_input": "2025-02-19T16:54:09.362506Z",
     "iopub.status.busy": "2025-02-19T16:54:09.362166Z",
     "iopub.status.idle": "2025-02-19T16:54:09.447223Z",
     "shell.execute_reply": "2025-02-19T16:54:09.446392Z"
    },
    "papermill": {
     "duration": 0.098658,
     "end_time": "2025-02-19T16:54:09.449495",
     "exception": false,
     "start_time": "2025-02-19T16:54:09.350837",
     "status": "completed"
    },
    "tags": []
   },
   "outputs": [],
   "source": [
    "# Test prediction\n",
    "y_pred = validate(model, None, test_x, None, params.batch_size, device)\n",
    "y_token = [vocab.idx2token[index] for index in y_pred]"
   ]
  },
  {
   "cell_type": "code",
   "execution_count": 19,
   "id": "0dbc2c76",
   "metadata": {
    "execution": {
     "iopub.execute_input": "2025-02-19T16:54:09.471395Z",
     "iopub.status.busy": "2025-02-19T16:54:09.471056Z",
     "iopub.status.idle": "2025-02-19T16:54:09.504734Z",
     "shell.execute_reply": "2025-02-19T16:54:09.503677Z"
    },
    "papermill": {
     "duration": 0.047059,
     "end_time": "2025-02-19T16:54:09.506853",
     "exception": false,
     "start_time": "2025-02-19T16:54:09.459794",
     "status": "completed"
    },
    "tags": []
   },
   "outputs": [
    {
     "name": "stdout",
     "output_type": "stream",
     "text": [
      "   id  token\n",
      "0   0      l\n",
      "1   1      s\n",
      "2   2  crisi\n",
      "3   3     hi\n",
      "4   4     se\n"
     ]
    }
   ],
   "source": [
    "submission = pd.DataFrame({'id':valid_x_df['id'], 'token': y_token}, columns=['id', 'token'])\n",
    "print(submission.head())\n",
    "submission.to_csv('submission.csv', index=False)"
   ]
  }
 ],
 "metadata": {
  "kaggle": {
   "accelerator": "gpu",
   "dataSources": [
    {
     "databundleVersionId": 10947297,
     "sourceId": 92047,
     "sourceType": "competition"
    },
    {
     "sourceId": 220985820,
     "sourceType": "kernelVersion"
    }
   ],
   "dockerImageVersionId": 30356,
   "isGpuEnabled": true,
   "isInternetEnabled": true,
   "language": "python",
   "sourceType": "notebook"
  },
  "kernelspec": {
   "display_name": "Python 3",
   "language": "python",
   "name": "python3"
  },
  "language_info": {
   "codemirror_mode": {
    "name": "ipython",
    "version": 3
   },
   "file_extension": ".py",
   "mimetype": "text/x-python",
   "name": "python",
   "nbconvert_exporter": "python",
   "pygments_lexer": "ipython3",
   "version": "3.7.12"
  },
  "papermill": {
   "default_parameters": {},
   "duration": 6887.712919,
   "end_time": "2025-02-19T16:54:10.847998",
   "environment_variables": {},
   "exception": null,
   "input_path": "__notebook__.ipynb",
   "output_path": "__notebook__.ipynb",
   "parameters": {},
   "start_time": "2025-02-19T14:59:23.135079",
   "version": "2.3.4"
  }
 },
 "nbformat": 4,
 "nbformat_minor": 5
}
