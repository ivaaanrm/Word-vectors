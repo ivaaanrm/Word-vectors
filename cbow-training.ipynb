{
 "cells": [
  {
   "cell_type": "code",
   "execution_count": 1,
   "id": "f57dbc1e",
   "metadata": {
    "_cell_guid": "b1076dfc-b9ad-4769-8c92-a6c4dae69d19",
    "_uuid": "8f2839f25d086af736a60e9eeb907d3b93b6e0e5",
    "execution": {
     "iopub.execute_input": "2025-02-19T20:17:21.101390Z",
     "iopub.status.busy": "2025-02-19T20:17:21.101049Z",
     "iopub.status.idle": "2025-02-19T20:17:22.963067Z",
     "shell.execute_reply": "2025-02-19T20:17:22.962169Z"
    },
    "papermill": {
     "duration": 1.871069,
     "end_time": "2025-02-19T20:17:22.965522",
     "exception": false,
     "start_time": "2025-02-19T20:17:21.094453",
     "status": "completed"
    },
    "tags": []
   },
   "outputs": [],
   "source": [
    "from types import SimpleNamespace\n",
    "from collections import Counter\n",
    "import os\n",
    "import re\n",
    "import pathlib\n",
    "import array\n",
    "import pickle\n",
    "import numpy as np\n",
    "import torch\n",
    "import torch.nn as nn\n",
    "import pandas as pd\n",
    "from tqdm import tqdm\n",
    "import matplotlib.pyplot as plt\n",
    "import torch.nn.functional as F\n"
   ]
  },
  {
   "cell_type": "code",
   "execution_count": 2,
   "id": "e263c301",
   "metadata": {
    "_cell_guid": "79c7e3d0-c299-4dcb-8224-4455121ee9b0",
    "_uuid": "d629ff2d2480ee46fbb7e2d37f6b5fab8052498a",
    "execution": {
     "iopub.execute_input": "2025-02-19T20:17:22.975510Z",
     "iopub.status.busy": "2025-02-19T20:17:22.975073Z",
     "iopub.status.idle": "2025-02-19T20:17:22.979170Z",
     "shell.execute_reply": "2025-02-19T20:17:22.978369Z"
    },
    "papermill": {
     "duration": 0.010826,
     "end_time": "2025-02-19T20:17:22.980860",
     "exception": false,
     "start_time": "2025-02-19T20:17:22.970034",
     "status": "completed"
    },
    "tags": []
   },
   "outputs": [],
   "source": [
    "DATASET_VERSION = 'ca-100'\n",
    "COMPETITION_ROOT = '../input/wordvectors'\n",
    "DATASET_ROOT = f'../input/text-preprocessing/data/{DATASET_VERSION}'\n",
    "WORKING_ROOT = f'data/{DATASET_VERSION}'\n",
    "DATASET_PREFIX = 'ca.wiki'"
   ]
  },
  {
   "cell_type": "code",
   "execution_count": 3,
   "id": "f9fa892d",
   "metadata": {
    "execution": {
     "iopub.execute_input": "2025-02-19T20:17:22.989977Z",
     "iopub.status.busy": "2025-02-19T20:17:22.989713Z",
     "iopub.status.idle": "2025-02-19T20:17:22.994507Z",
     "shell.execute_reply": "2025-02-19T20:17:22.993767Z"
    },
    "papermill": {
     "duration": 0.011333,
     "end_time": "2025-02-19T20:17:22.996297",
     "exception": false,
     "start_time": "2025-02-19T20:17:22.984964",
     "status": "completed"
    },
    "tags": []
   },
   "outputs": [],
   "source": [
    "params = SimpleNamespace(\n",
    "    embedding_dim = 200, #100\n",
    "    batch_size = 1000, # 1000\n",
    "    epochs = 5,\n",
    "    preprocessed = f'{DATASET_ROOT}/{DATASET_PREFIX}',\n",
    "    working = f'{WORKING_ROOT}/{DATASET_PREFIX}',\n",
    "    modelname = f'{WORKING_ROOT}/{DATASET_VERSION}.pt',\n",
    "    train = True,\n",
    "    weighting_scheme = 'trained_vector', # Options: 'uniform', 'fixed_scalar', 'trained_scalar', 'trained_vector'\n",
    ")"
   ]
  },
  {
   "cell_type": "code",
   "execution_count": 4,
   "id": "b55418c6",
   "metadata": {
    "execution": {
     "iopub.execute_input": "2025-02-19T20:17:23.005575Z",
     "iopub.status.busy": "2025-02-19T20:17:23.005311Z",
     "iopub.status.idle": "2025-02-19T20:17:23.014148Z",
     "shell.execute_reply": "2025-02-19T20:17:23.013361Z"
    },
    "jupyter": {
     "source_hidden": true
    },
    "papermill": {
     "duration": 0.015383,
     "end_time": "2025-02-19T20:17:23.015785",
     "exception": false,
     "start_time": "2025-02-19T20:17:23.000402",
     "status": "completed"
    },
    "tags": []
   },
   "outputs": [],
   "source": [
    "class Vocabulary(object):\n",
    "    def __init__(self, pad_token='<pad>', unk_token='<unk>', eos_token='<eos>'):\n",
    "        self.token2idx = {}\n",
    "        self.idx2token = []\n",
    "        self.pad_token = pad_token\n",
    "        self.unk_token = unk_token\n",
    "        self.eos_token = eos_token\n",
    "        if pad_token is not None:\n",
    "            self.pad_index = self.add_token(pad_token)\n",
    "        if unk_token is not None:\n",
    "            self.unk_index = self.add_token(unk_token)\n",
    "        if eos_token is not None:\n",
    "            self.eos_index = self.add_token(eos_token)\n",
    "\n",
    "    def add_token(self, token):\n",
    "        if token not in self.token2idx:\n",
    "            self.idx2token.append(token)\n",
    "            self.token2idx[token] = len(self.idx2token) - 1\n",
    "        return self.token2idx[token]\n",
    "\n",
    "    def get_index(self, token):\n",
    "        if isinstance(token, str):\n",
    "            return self.token2idx.get(token, self.unk_index)\n",
    "        else:\n",
    "            return [self.token2idx.get(t, self.unk_index) for t in token]\n",
    "\n",
    "    def get_token(self, index):\n",
    "        return self.idx2token[index]\n",
    "\n",
    "    def __len__(self):\n",
    "        return len(self.idx2token)\n",
    "\n",
    "    def save(self, filename):\n",
    "        with open(filename, 'wb') as f:\n",
    "            pickle.dump(self.__dict__, f)\n",
    "\n",
    "    def load(self, filename):\n",
    "        with open(filename, 'rb') as f:\n",
    "            self.__dict__.update(pickle.load(f))"
   ]
  },
  {
   "cell_type": "code",
   "execution_count": 5,
   "id": "360dae1a",
   "metadata": {
    "execution": {
     "iopub.execute_input": "2025-02-19T20:17:23.025136Z",
     "iopub.status.busy": "2025-02-19T20:17:23.024589Z",
     "iopub.status.idle": "2025-02-19T20:17:23.030026Z",
     "shell.execute_reply": "2025-02-19T20:17:23.029201Z"
    },
    "jupyter": {
     "source_hidden": true
    },
    "papermill": {
     "duration": 0.011758,
     "end_time": "2025-02-19T20:17:23.031636",
     "exception": false,
     "start_time": "2025-02-19T20:17:23.019878",
     "status": "completed"
    },
    "tags": []
   },
   "outputs": [],
   "source": [
    "def batch_generator(idata, target, batch_size, shuffle=True):\n",
    "    nsamples = len(idata)\n",
    "    if shuffle:\n",
    "        perm = np.random.permutation(nsamples)\n",
    "    else:\n",
    "        perm = range(nsamples)\n",
    "\n",
    "    for i in range(0, nsamples, batch_size):\n",
    "        batch_idx = perm[i:i+batch_size]\n",
    "        if target is not None:\n",
    "            yield idata[batch_idx], target[batch_idx]\n",
    "        else:\n",
    "            yield idata[batch_idx], None"
   ]
  },
  {
   "cell_type": "markdown",
   "id": "7a1c32a3",
   "metadata": {
    "papermill": {
     "duration": 0.003671,
     "end_time": "2025-02-19T20:17:23.039403",
     "exception": false,
     "start_time": "2025-02-19T20:17:23.035732",
     "status": "completed"
    },
    "tags": []
   },
   "source": [
    "CBOW model\n",
    "----------\n",
    "You can add new parameters to the model in the *\\_\\_init\\_\\_()* method with *self.register_buffer()* (for parameters not to be trained):\n",
    "\n",
    "    self.register_buffer('position_weight', torch.tensor([1,2,3,3,2,1], dtype=torch.float32))\n",
    "\n",
    "or *nn.Parameter()* (for parameters to be trained)\n",
    "\n",
    "    self.position_weight = nn.Parameter(torch.tensor([1,2,3,3,2,1], dtype=torch.float32))\n",
    "    \n",
    "In both cases, you can reference and use them in the *forward* method as\n",
    "\n",
    "    self.position_weight"
   ]
  },
  {
   "cell_type": "code",
   "execution_count": 6,
   "id": "6fab4998",
   "metadata": {
    "execution": {
     "iopub.execute_input": "2025-02-19T20:17:23.048382Z",
     "iopub.status.busy": "2025-02-19T20:17:23.048139Z",
     "iopub.status.idle": "2025-02-19T20:17:23.060982Z",
     "shell.execute_reply": "2025-02-19T20:17:23.060171Z"
    },
    "papermill": {
     "duration": 0.019307,
     "end_time": "2025-02-19T20:17:23.062590",
     "exception": false,
     "start_time": "2025-02-19T20:17:23.043283",
     "status": "completed"
    },
    "tags": []
   },
   "outputs": [],
   "source": [
    "class CBOW(nn.Module):\n",
    "    def __init__(self, num_embeddings, embedding_dim, weighting_scheme='uniform'):\n",
    "        super().__init__()\n",
    "        self.emb = nn.Embedding(num_embeddings, embedding_dim, padding_idx=0)\n",
    "        self.lin = nn.Linear(embedding_dim, num_embeddings, bias=False)\n",
    "        self.weighting_scheme = weighting_scheme\n",
    "        self.context_size = 6  # 3 before, 3 after\n",
    "        \n",
    "        if weighting_scheme == 'fixed_scalar':\n",
    "            self.position_weights = torch.tensor([1, 2, 3, 3, 2, 1], dtype=torch.float32)\n",
    "            self.register_buffer('position_weights', self.position_weights)  # Fixed buffer name\n",
    "            \n",
    "        elif weighting_scheme == 'trained_scalar':\n",
    "            self.position_weights = nn.Parameter(torch.ones(self.context_size))  # Initialize with ones\n",
    "            \n",
    "        elif weighting_scheme == 'trained_vector':\n",
    "            self.position_weights = nn.Parameter(torch.ones(self.context_size, embedding_dim))  # Initialize with ones\n",
    "            \n",
    "    def forward(self, input):\n",
    "        # input shape: (batch_size, context_size)\n",
    "        batch_size = input.size(0)\n",
    "        \n",
    "        # Check input dimensions\n",
    "        if input.size(1) != self.context_size:\n",
    "            raise ValueError(f\"Expected input context size of {self.context_size}, got {input.size(1)}\")\n",
    "            \n",
    "        # Embedding lookup: (batch_size, context_size, embedding_dim)\n",
    "        embedded = self.emb(input)\n",
    "        \n",
    "        if self.weighting_scheme == 'uniform':\n",
    "            # Simple average\n",
    "            context_vec = embedded.mean(dim=1)\n",
    "            \n",
    "        elif self.weighting_scheme == 'fixed_scalar':\n",
    "            # Reshape weights for broadcasting: (1, context_size, 1)\n",
    "            weights = self.position_weights.view(1, -1, 1)\n",
    "            context_vec = (embedded * weights).sum(dim=1)\n",
    "            context_vec = context_vec / weights.sum()  # Normalize\n",
    "            \n",
    "        elif self.weighting_scheme == 'trained_scalar':\n",
    "            # Reshape weights for broadcasting: (1, context_size, 1)\n",
    "            weights = self.position_weights.view(1, -1, 1)\n",
    "            context_vec = (embedded * weights).sum(dim=1)\n",
    "            context_vec = context_vec / weights.sum()  # Normalize\n",
    "            \n",
    "        elif self.weighting_scheme == 'trained_vector':\n",
    "            # Reshape weights for broadcasting: (1, context_size, embedding_dim)\n",
    "            weights = self.position_weights.view(1, self.context_size, -1)\n",
    "            context_vec = (embedded * weights).sum(dim=1)\n",
    "            context_vec = context_vec / weights.sum(dim=1)  # Normalize\n",
    "            \n",
    "        else:\n",
    "            raise ValueError(f\"Unknown weighting scheme: {self.weighting_scheme}\")\n",
    "        \n",
    "        # Final prediction: (batch_size, num_embeddings)\n",
    "        output = self.lin(context_vec)\n",
    "        \n",
    "        return output\n",
    "\n",
    "class CBOW(nn.Module):\n",
    "    def __init__(self, num_embeddings, embedding_dim):\n",
    "        super().__init__()\n",
    "        self.emb = nn.Embedding(num_embeddings, embedding_dim, padding_idx=0)\n",
    "        self.lin = nn.Linear(embedding_dim, num_embeddings, bias=False)\n",
    "        self.context_size = 6\n",
    "        # Initialize with slight preference for center words\n",
    "        self.position_weights = nn.Parameter(torch.tensor([0.8, 0.9, 1.0, 1.0, 0.9, 0.8]))\n",
    "        \n",
    "    def forward(self, input):\n",
    "        embedded = self.emb(input)\n",
    "        weights = F.softmax(self.position_weights, dim=0).view(1, -1, 1)\n",
    "        context_vec = (embedded * weights).sum(dim=1)\n",
    "        return self.lin(context_vec)"
   ]
  },
  {
   "cell_type": "markdown",
   "id": "b31f3638",
   "metadata": {
    "papermill": {
     "duration": 0.005219,
     "end_time": "2025-02-19T20:17:23.071838",
     "exception": false,
     "start_time": "2025-02-19T20:17:23.066619",
     "status": "completed"
    },
    "tags": []
   },
   "source": [
    "We can visually show how this model works:\n",
    "\n",
    "<div style=\"text-align:center\">\n",
    "    <img src=\"https://drive.google.com/uc?id=1INeftgKRCS0QWZu9InCDZ42a5fph3jQX\" alt=\"drawing\" width=\"800\" height=\"800\"/>\n",
    "</div>\n",
    "\n",
    "We train the model to learn matrices $\\mathbf{E}$ and $\\mathbf{W}$. Probabilities $P(w_t|w_{c-m},\\cdots,w_{c+m})$ can be obtained by applying the softmax function to the output vector $\\mathbf{z}$. However, our loss function [nn.CrossEntropyLoss()](https://pytorch.org/docs/stable/generated/torch.nn.CrossEntropyLoss.html) takes care of this.\n"
   ]
  },
  {
   "cell_type": "code",
   "execution_count": 7,
   "id": "2a5b1b4b",
   "metadata": {
    "execution": {
     "iopub.execute_input": "2025-02-19T20:17:23.081411Z",
     "iopub.status.busy": "2025-02-19T20:17:23.080684Z",
     "iopub.status.idle": "2025-02-19T20:17:23.086008Z",
     "shell.execute_reply": "2025-02-19T20:17:23.085177Z"
    },
    "jupyter": {
     "source_hidden": true
    },
    "papermill": {
     "duration": 0.011672,
     "end_time": "2025-02-19T20:17:23.087685",
     "exception": false,
     "start_time": "2025-02-19T20:17:23.076013",
     "status": "completed"
    },
    "tags": []
   },
   "outputs": [],
   "source": [
    "def load_preprocessed_dataset(prefix):\n",
    "    # Try loading precomputed vocabulary and preprocessed data files\n",
    "    token_vocab = Vocabulary()\n",
    "    token_vocab.load(f'{prefix}.vocab')\n",
    "    data = []\n",
    "    for part in ['train', 'valid', 'test']:\n",
    "        with np.load(f'{prefix}.{part}.npz') as set_data:\n",
    "            idata, target = set_data['idata'], set_data['target']\n",
    "            data.append((idata, target))\n",
    "            print(f'Number of samples ({part}): {len(target)}')\n",
    "    print(\"Using precomputed vocabulary and data files\")\n",
    "    print(f'Vocabulary size: {len(token_vocab)}')\n",
    "    return token_vocab, data"
   ]
  },
  {
   "cell_type": "code",
   "execution_count": 8,
   "id": "aa6e6883",
   "metadata": {
    "execution": {
     "iopub.execute_input": "2025-02-19T20:17:23.096867Z",
     "iopub.status.busy": "2025-02-19T20:17:23.096336Z",
     "iopub.status.idle": "2025-02-19T20:17:23.103306Z",
     "shell.execute_reply": "2025-02-19T20:17:23.102589Z"
    },
    "papermill": {
     "duration": 0.013234,
     "end_time": "2025-02-19T20:17:23.104950",
     "exception": false,
     "start_time": "2025-02-19T20:17:23.091716",
     "status": "completed"
    },
    "tags": []
   },
   "outputs": [],
   "source": [
    "def train(model, criterion, optimizer, idata, target, batch_size, device, log=False):\n",
    "    model.train()\n",
    "    total_loss = 0\n",
    "    ncorrect = 0\n",
    "    ntokens = 0\n",
    "    niterations = 0\n",
    "    for X, y in batch_generator(idata, target, batch_size, shuffle=True):\n",
    "        # Get input and target sequences from batch\n",
    "        X = torch.tensor(X, dtype=torch.long, device=device)\n",
    "        y = torch.tensor(y, dtype=torch.long, device=device)\n",
    "\n",
    "        model.zero_grad()\n",
    "        output = model(X)\n",
    "        loss = criterion(output, y)\n",
    "        loss.backward()\n",
    "        optimizer.step()\n",
    "        # Training statistics\n",
    "        total_loss += loss.item()\n",
    "        ncorrect += (torch.max(output, 1)[1] == y).sum().item()\n",
    "        ntokens += y.numel()\n",
    "        niterations += 1\n",
    "        if niterations == 200 or niterations == 500 or niterations % 1000 == 0:\n",
    "            print(f'Train: wpb={ntokens//niterations}, num_updates={niterations}, accuracy={100*ncorrect/ntokens:.1f}, loss={total_loss/ntokens:.2f}')\n",
    "\n",
    "    total_loss = total_loss / ntokens\n",
    "    accuracy = 100 * ncorrect / ntokens\n",
    "    if log:\n",
    "        print(f'Train: wpb={ntokens//niterations}, num_updates={niterations}, accuracy={accuracy:.1f}, loss={total_loss:.2f}')\n",
    "    return accuracy, total_loss"
   ]
  },
  {
   "cell_type": "code",
   "execution_count": 9,
   "id": "84206455",
   "metadata": {
    "execution": {
     "iopub.execute_input": "2025-02-19T20:17:23.114234Z",
     "iopub.status.busy": "2025-02-19T20:17:23.113599Z",
     "iopub.status.idle": "2025-02-19T20:17:23.120573Z",
     "shell.execute_reply": "2025-02-19T20:17:23.119929Z"
    },
    "jupyter": {
     "source_hidden": true
    },
    "papermill": {
     "duration": 0.013226,
     "end_time": "2025-02-19T20:17:23.122171",
     "exception": false,
     "start_time": "2025-02-19T20:17:23.108945",
     "status": "completed"
    },
    "tags": []
   },
   "outputs": [],
   "source": [
    "def validate(model, criterion, idata, target, batch_size, device):\n",
    "    model.eval()\n",
    "    total_loss = 0\n",
    "    ncorrect = 0\n",
    "    ntokens = 0\n",
    "    niterations = 0\n",
    "    y_pred = []\n",
    "    with torch.no_grad():\n",
    "        for X, y in batch_generator(idata, target, batch_size, shuffle=False):\n",
    "            # Get input and target sequences from batch\n",
    "            X = torch.tensor(X, dtype=torch.long, device=device)\n",
    "            output = model(X)\n",
    "            if target is not None:\n",
    "                y = torch.tensor(y, dtype=torch.long, device=device)\n",
    "                loss = criterion(output, y)\n",
    "                total_loss += loss.item()\n",
    "                ncorrect += (torch.max(output, 1)[1] == y).sum().item()\n",
    "                ntokens += y.numel()\n",
    "                niterations += 1\n",
    "            else:\n",
    "                pred = torch.max(output, 1)[1].detach().to('cpu').numpy()\n",
    "                y_pred.append(pred)\n",
    "\n",
    "    if target is not None:\n",
    "        total_loss = total_loss / ntokens\n",
    "        accuracy = 100 * ncorrect / ntokens\n",
    "        return accuracy, total_loss\n",
    "    else:\n",
    "        return np.concatenate(y_pred)"
   ]
  },
  {
   "cell_type": "code",
   "execution_count": 10,
   "id": "f9acfef1",
   "metadata": {
    "execution": {
     "iopub.execute_input": "2025-02-19T20:17:23.131128Z",
     "iopub.status.busy": "2025-02-19T20:17:23.130907Z",
     "iopub.status.idle": "2025-02-19T20:17:23.134858Z",
     "shell.execute_reply": "2025-02-19T20:17:23.134227Z"
    },
    "papermill": {
     "duration": 0.010246,
     "end_time": "2025-02-19T20:17:23.136529",
     "exception": false,
     "start_time": "2025-02-19T20:17:23.126283",
     "status": "completed"
    },
    "tags": []
   },
   "outputs": [],
   "source": [
    "# Create working dir\n",
    "pathlib.Path(WORKING_ROOT).mkdir(parents=True, exist_ok=True)"
   ]
  },
  {
   "cell_type": "code",
   "execution_count": 11,
   "id": "511c9c5b",
   "metadata": {
    "execution": {
     "iopub.execute_input": "2025-02-19T20:17:23.145422Z",
     "iopub.status.busy": "2025-02-19T20:17:23.145182Z",
     "iopub.status.idle": "2025-02-19T20:17:23.222754Z",
     "shell.execute_reply": "2025-02-19T20:17:23.222008Z"
    },
    "papermill": {
     "duration": 0.084045,
     "end_time": "2025-02-19T20:17:23.224581",
     "exception": false,
     "start_time": "2025-02-19T20:17:23.140536",
     "status": "completed"
    },
    "tags": []
   },
   "outputs": [],
   "source": [
    "# Select device\n",
    "if torch.cuda.is_available():\n",
    "    device = torch.device('cuda')\n",
    "else:\n",
    "    device = torch.device('cpu')\n",
    "    print(\"WARNING: Training without GPU can be very slow!\")"
   ]
  },
  {
   "cell_type": "code",
   "execution_count": 12,
   "id": "e2c099fa",
   "metadata": {
    "execution": {
     "iopub.execute_input": "2025-02-19T20:17:23.234048Z",
     "iopub.status.busy": "2025-02-19T20:17:23.233580Z",
     "iopub.status.idle": "2025-02-19T20:17:39.491790Z",
     "shell.execute_reply": "2025-02-19T20:17:39.490808Z"
    },
    "papermill": {
     "duration": 16.265212,
     "end_time": "2025-02-19T20:17:39.494046",
     "exception": false,
     "start_time": "2025-02-19T20:17:23.228834",
     "status": "completed"
    },
    "tags": []
   },
   "outputs": [
    {
     "name": "stdout",
     "output_type": "stream",
     "text": [
      "Number of samples (train): 82284341\n",
      "Number of samples (valid): 164765\n",
      "Number of samples (test): 165837\n",
      "Using precomputed vocabulary and data files\n",
      "Vocabulary size: 100002\n"
     ]
    }
   ],
   "source": [
    "vocab, data = load_preprocessed_dataset(params.preprocessed)"
   ]
  },
  {
   "cell_type": "code",
   "execution_count": 13,
   "id": "7591f372",
   "metadata": {
    "execution": {
     "iopub.execute_input": "2025-02-19T20:17:39.504123Z",
     "iopub.status.busy": "2025-02-19T20:17:39.503446Z",
     "iopub.status.idle": "2025-02-19T20:17:39.642767Z",
     "shell.execute_reply": "2025-02-19T20:17:39.641865Z"
    },
    "papermill": {
     "duration": 0.146674,
     "end_time": "2025-02-19T20:17:39.645172",
     "exception": false,
     "start_time": "2025-02-19T20:17:39.498498",
     "status": "completed"
    },
    "tags": []
   },
   "outputs": [],
   "source": [
    "# 'El Periodico' validation dataset\n",
    "valid_x_df = pd.read_csv(f'{COMPETITION_ROOT}/x_valid.csv')\n",
    "tokens = valid_x_df.columns[1:]\n",
    "valid_x = valid_x_df[tokens].apply(vocab.get_index).to_numpy(dtype='int32')\n",
    "valid_y_df = pd.read_csv(f'{COMPETITION_ROOT}/y_valid.csv')\n",
    "valid_y = valid_y_df['token'].apply(vocab.get_index).to_numpy(dtype='int32')"
   ]
  },
  {
   "cell_type": "code",
   "execution_count": 14,
   "id": "80b073cb",
   "metadata": {
    "execution": {
     "iopub.execute_input": "2025-02-19T20:17:39.655406Z",
     "iopub.status.busy": "2025-02-19T20:17:39.654718Z",
     "iopub.status.idle": "2025-02-19T20:17:39.759599Z",
     "shell.execute_reply": "2025-02-19T20:17:39.758935Z"
    },
    "papermill": {
     "duration": 0.111787,
     "end_time": "2025-02-19T20:17:39.761501",
     "exception": false,
     "start_time": "2025-02-19T20:17:39.649714",
     "status": "completed"
    },
    "tags": []
   },
   "outputs": [],
   "source": [
    "# 'El Periodico' test dataset\n",
    "valid_x_df = pd.read_csv(f'{COMPETITION_ROOT}/x_test.csv')\n",
    "test_x = valid_x_df[tokens].apply(vocab.get_index).to_numpy(dtype='int32')"
   ]
  },
  {
   "cell_type": "code",
   "execution_count": 15,
   "id": "850669eb",
   "metadata": {
    "execution": {
     "iopub.execute_input": "2025-02-19T20:17:39.771942Z",
     "iopub.status.busy": "2025-02-19T20:17:39.771640Z",
     "iopub.status.idle": "2025-02-19T20:17:43.073418Z",
     "shell.execute_reply": "2025-02-19T20:17:43.072574Z"
    },
    "papermill": {
     "duration": 3.308689,
     "end_time": "2025-02-19T20:17:43.075338",
     "exception": false,
     "start_time": "2025-02-19T20:17:39.766649",
     "status": "completed"
    },
    "tags": []
   },
   "outputs": [
    {
     "name": "stdout",
     "output_type": "stream",
     "text": [
      "CBOW(\n",
      "  (emb): Embedding(100002, 200, padding_idx=0)\n",
      "  (lin): Linear(in_features=200, out_features=100002, bias=False)\n",
      ")\n",
      "position_weights     6 [6]\n",
      "emb.weight           20000400 [100002, 200]\n",
      "lin.weight           20000400 [100002, 200]\n",
      "TOTAL                40000806\n"
     ]
    }
   ],
   "source": [
    "model = CBOW(len(vocab), params.embedding_dim).to(device)\n",
    "print(model)\n",
    "for name, param in model.named_parameters():\n",
    "    print(f'{name:20} {param.numel()} {list(param.shape)}')\n",
    "print(f'TOTAL                {sum(p.numel() for p in model.parameters())}')"
   ]
  },
  {
   "cell_type": "markdown",
   "id": "bc273bbb",
   "metadata": {
    "papermill": {
     "duration": 0.00414,
     "end_time": "2025-02-19T20:17:43.083932",
     "exception": false,
     "start_time": "2025-02-19T20:17:43.079792",
     "status": "completed"
    },
    "tags": []
   },
   "source": [
    "Note that $\\textit{lin}$ layer transposes $\\textit{lin.weight}$ before performing the multilplication."
   ]
  },
  {
   "cell_type": "markdown",
   "id": "c0b9d97e",
   "metadata": {
    "papermill": {
     "duration": 0.003932,
     "end_time": "2025-02-19T20:17:43.091994",
     "exception": false,
     "start_time": "2025-02-19T20:17:43.088062",
     "status": "completed"
    },
    "tags": []
   },
   "source": [
    "The [nn.CrossEntropyLoss()](https://pytorch.org/docs/stable/generated/torch.nn.CrossEntropyLoss.html) criterion combines *nn.LogSoftmax()* and *nn.NLLLoss()* in one single class."
   ]
  },
  {
   "cell_type": "code",
   "execution_count": 16,
   "id": "daacf94b",
   "metadata": {
    "execution": {
     "iopub.execute_input": "2025-02-19T20:17:43.102361Z",
     "iopub.status.busy": "2025-02-19T20:17:43.101765Z",
     "iopub.status.idle": "2025-02-19T20:17:43.105762Z",
     "shell.execute_reply": "2025-02-19T20:17:43.105063Z"
    },
    "papermill": {
     "duration": 0.011162,
     "end_time": "2025-02-19T20:17:43.107464",
     "exception": false,
     "start_time": "2025-02-19T20:17:43.096302",
     "status": "completed"
    },
    "tags": []
   },
   "outputs": [],
   "source": [
    "criterion = nn.CrossEntropyLoss(reduction='sum')"
   ]
  },
  {
   "cell_type": "code",
   "execution_count": 17,
   "id": "9f211f90",
   "metadata": {
    "execution": {
     "iopub.execute_input": "2025-02-19T20:17:43.116680Z",
     "iopub.status.busy": "2025-02-19T20:17:43.116398Z",
     "iopub.status.idle": "2025-02-20T00:40:26.071009Z",
     "shell.execute_reply": "2025-02-20T00:40:26.070238Z"
    },
    "papermill": {
     "duration": 15762.961513,
     "end_time": "2025-02-20T00:40:26.073058",
     "exception": false,
     "start_time": "2025-02-19T20:17:43.111545",
     "status": "completed"
    },
    "tags": []
   },
   "outputs": [
    {
     "name": "stdout",
     "output_type": "stream",
     "text": [
      "Train: wpb=1000, num_updates=200, accuracy=5.6, loss=9.34\n",
      "Train: wpb=1000, num_updates=500, accuracy=7.9, loss=8.24\n",
      "Train: wpb=1000, num_updates=1000, accuracy=11.2, loss=7.52\n",
      "Train: wpb=1000, num_updates=2000, accuracy=15.2, loss=6.83\n",
      "Train: wpb=1000, num_updates=3000, accuracy=17.6, loss=6.47\n",
      "Train: wpb=1000, num_updates=4000, accuracy=19.2, loss=6.24\n",
      "Train: wpb=1000, num_updates=5000, accuracy=20.5, loss=6.07\n",
      "Train: wpb=1000, num_updates=6000, accuracy=21.5, loss=5.94\n",
      "Train: wpb=1000, num_updates=7000, accuracy=22.4, loss=5.84\n",
      "Train: wpb=1000, num_updates=8000, accuracy=23.1, loss=5.75\n",
      "Train: wpb=1000, num_updates=9000, accuracy=23.7, loss=5.68\n",
      "Train: wpb=1000, num_updates=10000, accuracy=24.2, loss=5.61\n",
      "Train: wpb=1000, num_updates=11000, accuracy=24.7, loss=5.56\n",
      "Train: wpb=1000, num_updates=12000, accuracy=25.1, loss=5.51\n",
      "Train: wpb=1000, num_updates=13000, accuracy=25.5, loss=5.46\n",
      "Train: wpb=1000, num_updates=14000, accuracy=25.8, loss=5.42\n",
      "Train: wpb=1000, num_updates=15000, accuracy=26.2, loss=5.38\n",
      "Train: wpb=1000, num_updates=16000, accuracy=26.5, loss=5.34\n",
      "Train: wpb=1000, num_updates=17000, accuracy=26.7, loss=5.31\n",
      "Train: wpb=1000, num_updates=18000, accuracy=27.0, loss=5.28\n",
      "Train: wpb=1000, num_updates=19000, accuracy=27.2, loss=5.25\n",
      "Train: wpb=1000, num_updates=20000, accuracy=27.4, loss=5.23\n",
      "Train: wpb=1000, num_updates=21000, accuracy=27.6, loss=5.20\n",
      "Train: wpb=1000, num_updates=22000, accuracy=27.8, loss=5.18\n",
      "Train: wpb=1000, num_updates=23000, accuracy=28.0, loss=5.16\n",
      "Train: wpb=1000, num_updates=24000, accuracy=28.2, loss=5.14\n",
      "Train: wpb=1000, num_updates=25000, accuracy=28.3, loss=5.12\n",
      "Train: wpb=1000, num_updates=26000, accuracy=28.5, loss=5.10\n",
      "Train: wpb=1000, num_updates=27000, accuracy=28.6, loss=5.08\n",
      "Train: wpb=1000, num_updates=28000, accuracy=28.8, loss=5.06\n",
      "Train: wpb=1000, num_updates=29000, accuracy=28.9, loss=5.05\n",
      "Train: wpb=1000, num_updates=30000, accuracy=29.0, loss=5.03\n",
      "Train: wpb=1000, num_updates=31000, accuracy=29.2, loss=5.02\n",
      "Train: wpb=1000, num_updates=32000, accuracy=29.3, loss=5.00\n",
      "Train: wpb=1000, num_updates=33000, accuracy=29.4, loss=4.99\n",
      "Train: wpb=1000, num_updates=34000, accuracy=29.5, loss=4.98\n",
      "Train: wpb=1000, num_updates=35000, accuracy=29.6, loss=4.96\n",
      "Train: wpb=1000, num_updates=36000, accuracy=29.7, loss=4.95\n",
      "Train: wpb=1000, num_updates=37000, accuracy=29.8, loss=4.94\n",
      "Train: wpb=1000, num_updates=38000, accuracy=29.9, loss=4.93\n",
      "Train: wpb=1000, num_updates=39000, accuracy=30.0, loss=4.92\n",
      "Train: wpb=1000, num_updates=40000, accuracy=30.1, loss=4.91\n",
      "Train: wpb=1000, num_updates=41000, accuracy=30.1, loss=4.90\n",
      "Train: wpb=1000, num_updates=42000, accuracy=30.2, loss=4.89\n",
      "Train: wpb=1000, num_updates=43000, accuracy=30.3, loss=4.88\n",
      "Train: wpb=1000, num_updates=44000, accuracy=30.4, loss=4.87\n",
      "Train: wpb=1000, num_updates=45000, accuracy=30.4, loss=4.86\n",
      "Train: wpb=1000, num_updates=46000, accuracy=30.5, loss=4.85\n",
      "Train: wpb=1000, num_updates=47000, accuracy=30.6, loss=4.84\n",
      "Train: wpb=1000, num_updates=48000, accuracy=30.6, loss=4.83\n",
      "Train: wpb=1000, num_updates=49000, accuracy=30.7, loss=4.82\n",
      "Train: wpb=1000, num_updates=50000, accuracy=30.8, loss=4.81\n",
      "Train: wpb=1000, num_updates=51000, accuracy=30.8, loss=4.81\n",
      "Train: wpb=1000, num_updates=52000, accuracy=30.9, loss=4.80\n",
      "Train: wpb=1000, num_updates=53000, accuracy=30.9, loss=4.79\n",
      "Train: wpb=1000, num_updates=54000, accuracy=31.0, loss=4.78\n",
      "Train: wpb=1000, num_updates=55000, accuracy=31.1, loss=4.78\n",
      "Train: wpb=1000, num_updates=56000, accuracy=31.1, loss=4.77\n",
      "Train: wpb=1000, num_updates=57000, accuracy=31.2, loss=4.76\n",
      "Train: wpb=1000, num_updates=58000, accuracy=31.2, loss=4.76\n",
      "Train: wpb=1000, num_updates=59000, accuracy=31.3, loss=4.75\n",
      "Train: wpb=1000, num_updates=60000, accuracy=31.3, loss=4.74\n",
      "Train: wpb=1000, num_updates=61000, accuracy=31.4, loss=4.74\n",
      "Train: wpb=1000, num_updates=62000, accuracy=31.4, loss=4.73\n",
      "Train: wpb=1000, num_updates=63000, accuracy=31.4, loss=4.72\n",
      "Train: wpb=1000, num_updates=64000, accuracy=31.5, loss=4.72\n",
      "Train: wpb=1000, num_updates=65000, accuracy=31.5, loss=4.71\n",
      "Train: wpb=1000, num_updates=66000, accuracy=31.6, loss=4.71\n",
      "Train: wpb=1000, num_updates=67000, accuracy=31.6, loss=4.70\n",
      "Train: wpb=1000, num_updates=68000, accuracy=31.7, loss=4.70\n",
      "Train: wpb=1000, num_updates=69000, accuracy=31.7, loss=4.69\n",
      "Train: wpb=1000, num_updates=70000, accuracy=31.7, loss=4.69\n",
      "Train: wpb=1000, num_updates=71000, accuracy=31.8, loss=4.68\n",
      "Train: wpb=1000, num_updates=72000, accuracy=31.8, loss=4.68\n",
      "Train: wpb=1000, num_updates=73000, accuracy=31.9, loss=4.67\n",
      "Train: wpb=1000, num_updates=74000, accuracy=31.9, loss=4.67\n",
      "Train: wpb=1000, num_updates=75000, accuracy=31.9, loss=4.66\n",
      "Train: wpb=1000, num_updates=76000, accuracy=32.0, loss=4.66\n",
      "Train: wpb=1000, num_updates=77000, accuracy=32.0, loss=4.65\n",
      "Train: wpb=1000, num_updates=78000, accuracy=32.0, loss=4.65\n",
      "Train: wpb=1000, num_updates=79000, accuracy=32.1, loss=4.64\n",
      "Train: wpb=1000, num_updates=80000, accuracy=32.1, loss=4.64\n",
      "Train: wpb=1000, num_updates=81000, accuracy=32.1, loss=4.63\n",
      "Train: wpb=1000, num_updates=82000, accuracy=32.2, loss=4.63\n",
      "Train: wpb=999, num_updates=82285, accuracy=32.2, loss=4.63\n",
      "| epoch 000 | train accuracy=32.2%, train loss=4.63\n",
      "| epoch 000 | valid accuracy=32.7%, valid loss=4.45 (wikipedia)\n",
      "| epoch 000 | valid accuracy=22.5%, valid loss=5.41 (El Periódico)\n",
      "Train: wpb=1000, num_updates=200, accuracy=34.9, loss=4.19\n",
      "Train: wpb=1000, num_updates=500, accuracy=35.0, loss=4.19\n",
      "Train: wpb=1000, num_updates=1000, accuracy=35.0, loss=4.19\n",
      "Train: wpb=1000, num_updates=2000, accuracy=35.0, loss=4.19\n",
      "Train: wpb=1000, num_updates=3000, accuracy=35.0, loss=4.19\n",
      "Train: wpb=1000, num_updates=4000, accuracy=35.0, loss=4.19\n",
      "Train: wpb=1000, num_updates=5000, accuracy=35.0, loss=4.19\n",
      "Train: wpb=1000, num_updates=6000, accuracy=35.0, loss=4.19\n",
      "Train: wpb=1000, num_updates=7000, accuracy=35.0, loss=4.19\n",
      "Train: wpb=1000, num_updates=8000, accuracy=35.0, loss=4.19\n",
      "Train: wpb=1000, num_updates=9000, accuracy=35.0, loss=4.19\n",
      "Train: wpb=1000, num_updates=10000, accuracy=35.0, loss=4.19\n",
      "Train: wpb=1000, num_updates=11000, accuracy=35.0, loss=4.19\n",
      "Train: wpb=1000, num_updates=12000, accuracy=35.0, loss=4.19\n",
      "Train: wpb=1000, num_updates=13000, accuracy=35.0, loss=4.19\n",
      "Train: wpb=1000, num_updates=14000, accuracy=35.0, loss=4.19\n",
      "Train: wpb=1000, num_updates=15000, accuracy=35.0, loss=4.19\n",
      "Train: wpb=1000, num_updates=16000, accuracy=35.1, loss=4.19\n",
      "Train: wpb=1000, num_updates=17000, accuracy=35.1, loss=4.19\n",
      "Train: wpb=1000, num_updates=18000, accuracy=35.1, loss=4.19\n",
      "Train: wpb=1000, num_updates=19000, accuracy=35.1, loss=4.19\n",
      "Train: wpb=1000, num_updates=20000, accuracy=35.1, loss=4.19\n",
      "Train: wpb=1000, num_updates=21000, accuracy=35.1, loss=4.19\n",
      "Train: wpb=1000, num_updates=22000, accuracy=35.1, loss=4.19\n",
      "Train: wpb=1000, num_updates=23000, accuracy=35.1, loss=4.19\n",
      "Train: wpb=1000, num_updates=24000, accuracy=35.1, loss=4.19\n",
      "Train: wpb=1000, num_updates=25000, accuracy=35.1, loss=4.19\n",
      "Train: wpb=1000, num_updates=26000, accuracy=35.1, loss=4.19\n",
      "Train: wpb=1000, num_updates=27000, accuracy=35.1, loss=4.19\n",
      "Train: wpb=1000, num_updates=28000, accuracy=35.1, loss=4.19\n",
      "Train: wpb=1000, num_updates=29000, accuracy=35.1, loss=4.19\n",
      "Train: wpb=1000, num_updates=30000, accuracy=35.1, loss=4.19\n",
      "Train: wpb=1000, num_updates=31000, accuracy=35.1, loss=4.19\n",
      "Train: wpb=1000, num_updates=32000, accuracy=35.1, loss=4.19\n",
      "Train: wpb=1000, num_updates=33000, accuracy=35.1, loss=4.19\n",
      "Train: wpb=1000, num_updates=34000, accuracy=35.1, loss=4.19\n",
      "Train: wpb=1000, num_updates=35000, accuracy=35.1, loss=4.19\n",
      "Train: wpb=1000, num_updates=36000, accuracy=35.1, loss=4.19\n",
      "Train: wpb=1000, num_updates=37000, accuracy=35.1, loss=4.19\n",
      "Train: wpb=1000, num_updates=38000, accuracy=35.1, loss=4.19\n",
      "Train: wpb=1000, num_updates=39000, accuracy=35.1, loss=4.18\n",
      "Train: wpb=1000, num_updates=40000, accuracy=35.2, loss=4.18\n",
      "Train: wpb=1000, num_updates=41000, accuracy=35.2, loss=4.18\n",
      "Train: wpb=1000, num_updates=42000, accuracy=35.2, loss=4.18\n",
      "Train: wpb=1000, num_updates=43000, accuracy=35.2, loss=4.18\n",
      "Train: wpb=1000, num_updates=44000, accuracy=35.2, loss=4.18\n",
      "Train: wpb=1000, num_updates=45000, accuracy=35.2, loss=4.18\n",
      "Train: wpb=1000, num_updates=46000, accuracy=35.2, loss=4.18\n",
      "Train: wpb=1000, num_updates=47000, accuracy=35.2, loss=4.18\n",
      "Train: wpb=1000, num_updates=48000, accuracy=35.2, loss=4.18\n",
      "Train: wpb=1000, num_updates=49000, accuracy=35.2, loss=4.18\n",
      "Train: wpb=1000, num_updates=50000, accuracy=35.2, loss=4.18\n",
      "Train: wpb=1000, num_updates=51000, accuracy=35.2, loss=4.18\n",
      "Train: wpb=1000, num_updates=52000, accuracy=35.2, loss=4.18\n",
      "Train: wpb=1000, num_updates=53000, accuracy=35.2, loss=4.18\n",
      "Train: wpb=1000, num_updates=54000, accuracy=35.2, loss=4.18\n",
      "Train: wpb=1000, num_updates=55000, accuracy=35.2, loss=4.18\n",
      "Train: wpb=1000, num_updates=56000, accuracy=35.2, loss=4.18\n",
      "Train: wpb=1000, num_updates=57000, accuracy=35.2, loss=4.18\n",
      "Train: wpb=1000, num_updates=58000, accuracy=35.2, loss=4.18\n",
      "Train: wpb=1000, num_updates=59000, accuracy=35.2, loss=4.18\n",
      "Train: wpb=1000, num_updates=60000, accuracy=35.2, loss=4.18\n",
      "Train: wpb=1000, num_updates=61000, accuracy=35.2, loss=4.18\n",
      "Train: wpb=1000, num_updates=62000, accuracy=35.2, loss=4.18\n",
      "Train: wpb=1000, num_updates=63000, accuracy=35.2, loss=4.18\n",
      "Train: wpb=1000, num_updates=64000, accuracy=35.2, loss=4.17\n",
      "Train: wpb=1000, num_updates=65000, accuracy=35.2, loss=4.17\n",
      "Train: wpb=1000, num_updates=66000, accuracy=35.2, loss=4.17\n",
      "Train: wpb=1000, num_updates=67000, accuracy=35.2, loss=4.17\n",
      "Train: wpb=1000, num_updates=68000, accuracy=35.2, loss=4.17\n",
      "Train: wpb=1000, num_updates=69000, accuracy=35.2, loss=4.17\n",
      "Train: wpb=1000, num_updates=70000, accuracy=35.2, loss=4.17\n",
      "Train: wpb=1000, num_updates=71000, accuracy=35.3, loss=4.17\n",
      "Train: wpb=1000, num_updates=72000, accuracy=35.3, loss=4.17\n",
      "Train: wpb=1000, num_updates=73000, accuracy=35.3, loss=4.17\n",
      "Train: wpb=1000, num_updates=74000, accuracy=35.3, loss=4.17\n",
      "Train: wpb=1000, num_updates=75000, accuracy=35.3, loss=4.17\n",
      "Train: wpb=1000, num_updates=76000, accuracy=35.3, loss=4.17\n",
      "Train: wpb=1000, num_updates=77000, accuracy=35.3, loss=4.17\n",
      "Train: wpb=1000, num_updates=78000, accuracy=35.3, loss=4.17\n",
      "Train: wpb=1000, num_updates=79000, accuracy=35.3, loss=4.17\n",
      "Train: wpb=1000, num_updates=80000, accuracy=35.3, loss=4.17\n",
      "Train: wpb=1000, num_updates=81000, accuracy=35.3, loss=4.17\n",
      "Train: wpb=1000, num_updates=82000, accuracy=35.3, loss=4.17\n",
      "Train: wpb=999, num_updates=82285, accuracy=35.3, loss=4.17\n",
      "| epoch 001 | train accuracy=35.3%, train loss=4.17\n",
      "| epoch 001 | valid accuracy=33.4%, valid loss=4.33 (wikipedia)\n",
      "| epoch 001 | valid accuracy=22.8%, valid loss=5.34 (El Periódico)\n",
      "Train: wpb=1000, num_updates=200, accuracy=36.0, loss=4.04\n",
      "Train: wpb=1000, num_updates=500, accuracy=36.0, loss=4.04\n",
      "Train: wpb=1000, num_updates=1000, accuracy=36.0, loss=4.04\n",
      "Train: wpb=1000, num_updates=2000, accuracy=35.9, loss=4.04\n",
      "Train: wpb=1000, num_updates=3000, accuracy=35.9, loss=4.04\n",
      "Train: wpb=1000, num_updates=4000, accuracy=35.9, loss=4.04\n",
      "Train: wpb=1000, num_updates=5000, accuracy=35.9, loss=4.04\n",
      "Train: wpb=1000, num_updates=6000, accuracy=35.9, loss=4.05\n",
      "Train: wpb=1000, num_updates=7000, accuracy=35.9, loss=4.05\n",
      "Train: wpb=1000, num_updates=8000, accuracy=35.9, loss=4.05\n",
      "Train: wpb=1000, num_updates=9000, accuracy=35.9, loss=4.05\n",
      "Train: wpb=1000, num_updates=10000, accuracy=35.9, loss=4.05\n",
      "Train: wpb=1000, num_updates=11000, accuracy=35.9, loss=4.05\n",
      "Train: wpb=1000, num_updates=12000, accuracy=35.9, loss=4.05\n",
      "Train: wpb=1000, num_updates=13000, accuracy=35.9, loss=4.05\n",
      "Train: wpb=1000, num_updates=14000, accuracy=35.9, loss=4.05\n",
      "Train: wpb=1000, num_updates=15000, accuracy=35.9, loss=4.05\n",
      "Train: wpb=1000, num_updates=16000, accuracy=35.9, loss=4.05\n",
      "Train: wpb=1000, num_updates=17000, accuracy=35.9, loss=4.06\n",
      "Train: wpb=1000, num_updates=18000, accuracy=35.9, loss=4.06\n",
      "Train: wpb=1000, num_updates=19000, accuracy=35.9, loss=4.06\n",
      "Train: wpb=1000, num_updates=20000, accuracy=35.9, loss=4.06\n",
      "Train: wpb=1000, num_updates=21000, accuracy=35.9, loss=4.06\n",
      "Train: wpb=1000, num_updates=22000, accuracy=35.9, loss=4.06\n",
      "Train: wpb=1000, num_updates=23000, accuracy=35.9, loss=4.06\n",
      "Train: wpb=1000, num_updates=24000, accuracy=35.9, loss=4.06\n",
      "Train: wpb=1000, num_updates=25000, accuracy=35.9, loss=4.06\n",
      "Train: wpb=1000, num_updates=26000, accuracy=35.9, loss=4.06\n",
      "Train: wpb=1000, num_updates=27000, accuracy=35.9, loss=4.06\n",
      "Train: wpb=1000, num_updates=28000, accuracy=35.9, loss=4.06\n",
      "Train: wpb=1000, num_updates=29000, accuracy=35.9, loss=4.06\n",
      "Train: wpb=1000, num_updates=30000, accuracy=35.9, loss=4.06\n",
      "Train: wpb=1000, num_updates=31000, accuracy=35.9, loss=4.06\n",
      "Train: wpb=1000, num_updates=32000, accuracy=35.9, loss=4.06\n",
      "Train: wpb=1000, num_updates=33000, accuracy=35.9, loss=4.06\n",
      "Train: wpb=1000, num_updates=34000, accuracy=35.9, loss=4.06\n",
      "Train: wpb=1000, num_updates=35000, accuracy=35.9, loss=4.06\n",
      "Train: wpb=1000, num_updates=36000, accuracy=35.9, loss=4.06\n",
      "Train: wpb=1000, num_updates=37000, accuracy=35.9, loss=4.06\n",
      "Train: wpb=1000, num_updates=38000, accuracy=35.9, loss=4.06\n",
      "Train: wpb=1000, num_updates=39000, accuracy=35.9, loss=4.06\n",
      "Train: wpb=1000, num_updates=40000, accuracy=35.9, loss=4.06\n",
      "Train: wpb=1000, num_updates=41000, accuracy=35.9, loss=4.06\n",
      "Train: wpb=1000, num_updates=42000, accuracy=35.9, loss=4.06\n",
      "Train: wpb=1000, num_updates=43000, accuracy=35.9, loss=4.06\n",
      "Train: wpb=1000, num_updates=44000, accuracy=35.9, loss=4.06\n",
      "Train: wpb=1000, num_updates=45000, accuracy=35.9, loss=4.06\n",
      "Train: wpb=1000, num_updates=46000, accuracy=35.9, loss=4.06\n",
      "Train: wpb=1000, num_updates=47000, accuracy=35.9, loss=4.06\n",
      "Train: wpb=1000, num_updates=48000, accuracy=35.9, loss=4.06\n",
      "Train: wpb=1000, num_updates=49000, accuracy=35.9, loss=4.06\n",
      "Train: wpb=1000, num_updates=50000, accuracy=35.9, loss=4.06\n",
      "Train: wpb=1000, num_updates=51000, accuracy=35.9, loss=4.06\n",
      "Train: wpb=1000, num_updates=52000, accuracy=35.9, loss=4.07\n",
      "Train: wpb=1000, num_updates=53000, accuracy=35.9, loss=4.07\n",
      "Train: wpb=1000, num_updates=54000, accuracy=35.9, loss=4.07\n",
      "Train: wpb=1000, num_updates=55000, accuracy=35.9, loss=4.07\n",
      "Train: wpb=1000, num_updates=56000, accuracy=35.9, loss=4.07\n",
      "Train: wpb=1000, num_updates=57000, accuracy=35.9, loss=4.07\n",
      "Train: wpb=1000, num_updates=58000, accuracy=35.9, loss=4.07\n",
      "Train: wpb=1000, num_updates=59000, accuracy=35.9, loss=4.07\n",
      "Train: wpb=1000, num_updates=60000, accuracy=35.9, loss=4.07\n",
      "Train: wpb=1000, num_updates=61000, accuracy=35.9, loss=4.07\n",
      "Train: wpb=1000, num_updates=62000, accuracy=35.9, loss=4.07\n",
      "Train: wpb=1000, num_updates=63000, accuracy=35.9, loss=4.07\n",
      "Train: wpb=1000, num_updates=64000, accuracy=35.9, loss=4.07\n",
      "Train: wpb=1000, num_updates=65000, accuracy=35.9, loss=4.07\n",
      "Train: wpb=1000, num_updates=66000, accuracy=35.9, loss=4.07\n",
      "Train: wpb=1000, num_updates=67000, accuracy=35.9, loss=4.07\n",
      "Train: wpb=1000, num_updates=68000, accuracy=35.9, loss=4.07\n",
      "Train: wpb=1000, num_updates=69000, accuracy=35.9, loss=4.07\n",
      "Train: wpb=1000, num_updates=70000, accuracy=35.9, loss=4.07\n",
      "Train: wpb=1000, num_updates=71000, accuracy=35.9, loss=4.07\n",
      "Train: wpb=1000, num_updates=72000, accuracy=35.9, loss=4.07\n",
      "Train: wpb=1000, num_updates=73000, accuracy=35.9, loss=4.07\n",
      "Train: wpb=1000, num_updates=74000, accuracy=35.9, loss=4.07\n",
      "Train: wpb=1000, num_updates=75000, accuracy=35.9, loss=4.07\n",
      "Train: wpb=1000, num_updates=76000, accuracy=35.9, loss=4.07\n",
      "Train: wpb=1000, num_updates=77000, accuracy=35.9, loss=4.07\n",
      "Train: wpb=1000, num_updates=78000, accuracy=35.9, loss=4.07\n",
      "Train: wpb=1000, num_updates=79000, accuracy=35.9, loss=4.07\n",
      "Train: wpb=1000, num_updates=80000, accuracy=35.9, loss=4.07\n",
      "Train: wpb=1000, num_updates=81000, accuracy=35.9, loss=4.07\n",
      "Train: wpb=1000, num_updates=82000, accuracy=35.9, loss=4.07\n",
      "Train: wpb=999, num_updates=82285, accuracy=35.9, loss=4.07\n",
      "| epoch 002 | train accuracy=35.9%, train loss=4.07\n",
      "| epoch 002 | valid accuracy=33.7%, valid loss=4.29 (wikipedia)\n",
      "| epoch 002 | valid accuracy=23.0%, valid loss=5.30 (El Periódico)\n",
      "Train: wpb=1000, num_updates=200, accuracy=36.4, loss=3.96\n",
      "Train: wpb=1000, num_updates=500, accuracy=36.4, loss=3.97\n",
      "Train: wpb=1000, num_updates=1000, accuracy=36.4, loss=3.97\n",
      "Train: wpb=1000, num_updates=2000, accuracy=36.3, loss=3.97\n",
      "Train: wpb=1000, num_updates=3000, accuracy=36.3, loss=3.98\n",
      "Train: wpb=1000, num_updates=4000, accuracy=36.3, loss=3.98\n",
      "Train: wpb=1000, num_updates=5000, accuracy=36.3, loss=3.98\n",
      "Train: wpb=1000, num_updates=6000, accuracy=36.3, loss=3.98\n",
      "Train: wpb=1000, num_updates=7000, accuracy=36.3, loss=3.98\n",
      "Train: wpb=1000, num_updates=8000, accuracy=36.3, loss=3.98\n",
      "Train: wpb=1000, num_updates=9000, accuracy=36.3, loss=3.98\n",
      "Train: wpb=1000, num_updates=10000, accuracy=36.3, loss=3.98\n",
      "Train: wpb=1000, num_updates=11000, accuracy=36.3, loss=3.98\n",
      "Train: wpb=1000, num_updates=12000, accuracy=36.3, loss=3.99\n",
      "Train: wpb=1000, num_updates=13000, accuracy=36.3, loss=3.99\n",
      "Train: wpb=1000, num_updates=14000, accuracy=36.3, loss=3.99\n",
      "Train: wpb=1000, num_updates=15000, accuracy=36.3, loss=3.99\n",
      "Train: wpb=1000, num_updates=16000, accuracy=36.3, loss=3.99\n",
      "Train: wpb=1000, num_updates=17000, accuracy=36.3, loss=3.99\n",
      "Train: wpb=1000, num_updates=18000, accuracy=36.3, loss=3.99\n",
      "Train: wpb=1000, num_updates=19000, accuracy=36.3, loss=3.99\n",
      "Train: wpb=1000, num_updates=20000, accuracy=36.3, loss=3.99\n",
      "Train: wpb=1000, num_updates=21000, accuracy=36.3, loss=3.99\n",
      "Train: wpb=1000, num_updates=22000, accuracy=36.2, loss=3.99\n",
      "Train: wpb=1000, num_updates=23000, accuracy=36.3, loss=4.00\n",
      "Train: wpb=1000, num_updates=24000, accuracy=36.2, loss=4.00\n",
      "Train: wpb=1000, num_updates=25000, accuracy=36.2, loss=4.00\n",
      "Train: wpb=1000, num_updates=26000, accuracy=36.2, loss=4.00\n",
      "Train: wpb=1000, num_updates=27000, accuracy=36.2, loss=4.00\n",
      "Train: wpb=1000, num_updates=28000, accuracy=36.2, loss=4.00\n",
      "Train: wpb=1000, num_updates=29000, accuracy=36.2, loss=4.00\n",
      "Train: wpb=1000, num_updates=30000, accuracy=36.2, loss=4.00\n",
      "Train: wpb=1000, num_updates=31000, accuracy=36.2, loss=4.00\n",
      "Train: wpb=1000, num_updates=32000, accuracy=36.2, loss=4.00\n",
      "Train: wpb=1000, num_updates=33000, accuracy=36.2, loss=4.00\n",
      "Train: wpb=1000, num_updates=34000, accuracy=36.2, loss=4.00\n",
      "Train: wpb=1000, num_updates=35000, accuracy=36.2, loss=4.00\n",
      "Train: wpb=1000, num_updates=36000, accuracy=36.2, loss=4.00\n",
      "Train: wpb=1000, num_updates=37000, accuracy=36.2, loss=4.00\n",
      "Train: wpb=1000, num_updates=38000, accuracy=36.2, loss=4.00\n",
      "Train: wpb=1000, num_updates=39000, accuracy=36.2, loss=4.00\n",
      "Train: wpb=1000, num_updates=40000, accuracy=36.2, loss=4.00\n",
      "Train: wpb=1000, num_updates=41000, accuracy=36.2, loss=4.00\n",
      "Train: wpb=1000, num_updates=42000, accuracy=36.2, loss=4.00\n",
      "Train: wpb=1000, num_updates=43000, accuracy=36.2, loss=4.00\n",
      "Train: wpb=1000, num_updates=44000, accuracy=36.2, loss=4.01\n",
      "Train: wpb=1000, num_updates=45000, accuracy=36.2, loss=4.01\n",
      "Train: wpb=1000, num_updates=46000, accuracy=36.2, loss=4.01\n",
      "Train: wpb=1000, num_updates=47000, accuracy=36.2, loss=4.01\n",
      "Train: wpb=1000, num_updates=48000, accuracy=36.2, loss=4.01\n",
      "Train: wpb=1000, num_updates=49000, accuracy=36.2, loss=4.01\n",
      "Train: wpb=1000, num_updates=50000, accuracy=36.2, loss=4.01\n",
      "Train: wpb=1000, num_updates=51000, accuracy=36.2, loss=4.01\n",
      "Train: wpb=1000, num_updates=52000, accuracy=36.2, loss=4.01\n",
      "Train: wpb=1000, num_updates=53000, accuracy=36.2, loss=4.01\n",
      "Train: wpb=1000, num_updates=54000, accuracy=36.2, loss=4.01\n",
      "Train: wpb=1000, num_updates=55000, accuracy=36.2, loss=4.01\n",
      "Train: wpb=1000, num_updates=56000, accuracy=36.2, loss=4.01\n",
      "Train: wpb=1000, num_updates=57000, accuracy=36.2, loss=4.01\n",
      "Train: wpb=1000, num_updates=58000, accuracy=36.2, loss=4.01\n",
      "Train: wpb=1000, num_updates=59000, accuracy=36.2, loss=4.01\n",
      "Train: wpb=1000, num_updates=60000, accuracy=36.2, loss=4.01\n",
      "Train: wpb=1000, num_updates=61000, accuracy=36.2, loss=4.01\n",
      "Train: wpb=1000, num_updates=62000, accuracy=36.2, loss=4.01\n",
      "Train: wpb=1000, num_updates=63000, accuracy=36.2, loss=4.01\n",
      "Train: wpb=1000, num_updates=64000, accuracy=36.2, loss=4.01\n",
      "Train: wpb=1000, num_updates=65000, accuracy=36.2, loss=4.01\n",
      "Train: wpb=1000, num_updates=66000, accuracy=36.2, loss=4.01\n",
      "Train: wpb=1000, num_updates=67000, accuracy=36.2, loss=4.01\n",
      "Train: wpb=1000, num_updates=68000, accuracy=36.2, loss=4.01\n",
      "Train: wpb=1000, num_updates=69000, accuracy=36.2, loss=4.01\n",
      "Train: wpb=1000, num_updates=70000, accuracy=36.2, loss=4.01\n",
      "Train: wpb=1000, num_updates=71000, accuracy=36.2, loss=4.01\n",
      "Train: wpb=1000, num_updates=72000, accuracy=36.2, loss=4.01\n",
      "Train: wpb=1000, num_updates=73000, accuracy=36.2, loss=4.01\n",
      "Train: wpb=1000, num_updates=74000, accuracy=36.2, loss=4.01\n",
      "Train: wpb=1000, num_updates=75000, accuracy=36.2, loss=4.01\n",
      "Train: wpb=1000, num_updates=76000, accuracy=36.2, loss=4.01\n",
      "Train: wpb=1000, num_updates=77000, accuracy=36.2, loss=4.01\n",
      "Train: wpb=1000, num_updates=78000, accuracy=36.2, loss=4.01\n",
      "Train: wpb=1000, num_updates=79000, accuracy=36.2, loss=4.01\n",
      "Train: wpb=1000, num_updates=80000, accuracy=36.2, loss=4.01\n",
      "Train: wpb=1000, num_updates=81000, accuracy=36.2, loss=4.01\n",
      "Train: wpb=1000, num_updates=82000, accuracy=36.2, loss=4.01\n",
      "Train: wpb=999, num_updates=82285, accuracy=36.2, loss=4.01\n",
      "| epoch 003 | train accuracy=36.2%, train loss=4.01\n",
      "| epoch 003 | valid accuracy=33.7%, valid loss=4.26 (wikipedia)\n",
      "| epoch 003 | valid accuracy=23.1%, valid loss=5.29 (El Periódico)\n",
      "Train: wpb=1000, num_updates=200, accuracy=36.6, loss=3.93\n",
      "Train: wpb=1000, num_updates=500, accuracy=36.6, loss=3.93\n",
      "Train: wpb=1000, num_updates=1000, accuracy=36.5, loss=3.93\n",
      "Train: wpb=1000, num_updates=2000, accuracy=36.6, loss=3.93\n",
      "Train: wpb=1000, num_updates=3000, accuracy=36.6, loss=3.94\n",
      "Train: wpb=1000, num_updates=4000, accuracy=36.6, loss=3.94\n",
      "Train: wpb=1000, num_updates=5000, accuracy=36.6, loss=3.94\n",
      "Train: wpb=1000, num_updates=6000, accuracy=36.6, loss=3.94\n",
      "Train: wpb=1000, num_updates=7000, accuracy=36.6, loss=3.94\n",
      "Train: wpb=1000, num_updates=8000, accuracy=36.6, loss=3.94\n",
      "Train: wpb=1000, num_updates=9000, accuracy=36.6, loss=3.94\n",
      "Train: wpb=1000, num_updates=10000, accuracy=36.6, loss=3.94\n",
      "Train: wpb=1000, num_updates=11000, accuracy=36.6, loss=3.94\n",
      "Train: wpb=1000, num_updates=12000, accuracy=36.6, loss=3.95\n",
      "Train: wpb=1000, num_updates=13000, accuracy=36.5, loss=3.95\n",
      "Train: wpb=1000, num_updates=14000, accuracy=36.5, loss=3.95\n",
      "Train: wpb=1000, num_updates=15000, accuracy=36.5, loss=3.95\n",
      "Train: wpb=1000, num_updates=16000, accuracy=36.5, loss=3.95\n",
      "Train: wpb=1000, num_updates=17000, accuracy=36.5, loss=3.95\n",
      "Train: wpb=1000, num_updates=18000, accuracy=36.5, loss=3.95\n",
      "Train: wpb=1000, num_updates=19000, accuracy=36.5, loss=3.95\n",
      "Train: wpb=1000, num_updates=20000, accuracy=36.5, loss=3.95\n",
      "Train: wpb=1000, num_updates=21000, accuracy=36.5, loss=3.96\n",
      "Train: wpb=1000, num_updates=22000, accuracy=36.5, loss=3.96\n",
      "Train: wpb=1000, num_updates=23000, accuracy=36.5, loss=3.96\n",
      "Train: wpb=1000, num_updates=24000, accuracy=36.5, loss=3.96\n",
      "Train: wpb=1000, num_updates=25000, accuracy=36.5, loss=3.96\n",
      "Train: wpb=1000, num_updates=26000, accuracy=36.5, loss=3.96\n",
      "Train: wpb=1000, num_updates=27000, accuracy=36.5, loss=3.96\n",
      "Train: wpb=1000, num_updates=28000, accuracy=36.5, loss=3.96\n",
      "Train: wpb=1000, num_updates=29000, accuracy=36.5, loss=3.96\n",
      "Train: wpb=1000, num_updates=30000, accuracy=36.5, loss=3.96\n",
      "Train: wpb=1000, num_updates=31000, accuracy=36.5, loss=3.96\n",
      "Train: wpb=1000, num_updates=32000, accuracy=36.5, loss=3.96\n",
      "Train: wpb=1000, num_updates=33000, accuracy=36.5, loss=3.96\n",
      "Train: wpb=1000, num_updates=34000, accuracy=36.5, loss=3.96\n",
      "Train: wpb=1000, num_updates=35000, accuracy=36.5, loss=3.96\n",
      "Train: wpb=1000, num_updates=36000, accuracy=36.5, loss=3.97\n",
      "Train: wpb=1000, num_updates=37000, accuracy=36.5, loss=3.97\n",
      "Train: wpb=1000, num_updates=38000, accuracy=36.5, loss=3.97\n",
      "Train: wpb=1000, num_updates=39000, accuracy=36.5, loss=3.97\n",
      "Train: wpb=1000, num_updates=40000, accuracy=36.5, loss=3.97\n",
      "Train: wpb=1000, num_updates=41000, accuracy=36.5, loss=3.97\n",
      "Train: wpb=1000, num_updates=42000, accuracy=36.5, loss=3.97\n",
      "Train: wpb=1000, num_updates=43000, accuracy=36.4, loss=3.97\n",
      "Train: wpb=1000, num_updates=44000, accuracy=36.4, loss=3.97\n",
      "Train: wpb=1000, num_updates=45000, accuracy=36.4, loss=3.97\n",
      "Train: wpb=1000, num_updates=46000, accuracy=36.4, loss=3.97\n",
      "Train: wpb=1000, num_updates=47000, accuracy=36.4, loss=3.97\n",
      "Train: wpb=1000, num_updates=48000, accuracy=36.4, loss=3.97\n",
      "Train: wpb=1000, num_updates=49000, accuracy=36.4, loss=3.97\n",
      "Train: wpb=1000, num_updates=50000, accuracy=36.4, loss=3.97\n",
      "Train: wpb=1000, num_updates=51000, accuracy=36.4, loss=3.97\n",
      "Train: wpb=1000, num_updates=52000, accuracy=36.4, loss=3.97\n",
      "Train: wpb=1000, num_updates=53000, accuracy=36.4, loss=3.97\n",
      "Train: wpb=1000, num_updates=54000, accuracy=36.4, loss=3.97\n",
      "Train: wpb=1000, num_updates=55000, accuracy=36.4, loss=3.97\n",
      "Train: wpb=1000, num_updates=56000, accuracy=36.4, loss=3.97\n",
      "Train: wpb=1000, num_updates=57000, accuracy=36.4, loss=3.97\n",
      "Train: wpb=1000, num_updates=58000, accuracy=36.4, loss=3.97\n",
      "Train: wpb=1000, num_updates=59000, accuracy=36.4, loss=3.97\n",
      "Train: wpb=1000, num_updates=60000, accuracy=36.4, loss=3.97\n",
      "Train: wpb=1000, num_updates=61000, accuracy=36.4, loss=3.97\n",
      "Train: wpb=1000, num_updates=62000, accuracy=36.4, loss=3.97\n",
      "Train: wpb=1000, num_updates=63000, accuracy=36.4, loss=3.98\n",
      "Train: wpb=1000, num_updates=64000, accuracy=36.4, loss=3.98\n",
      "Train: wpb=1000, num_updates=65000, accuracy=36.4, loss=3.98\n",
      "Train: wpb=1000, num_updates=66000, accuracy=36.4, loss=3.98\n",
      "Train: wpb=1000, num_updates=67000, accuracy=36.4, loss=3.98\n",
      "Train: wpb=1000, num_updates=68000, accuracy=36.4, loss=3.98\n",
      "Train: wpb=1000, num_updates=69000, accuracy=36.4, loss=3.98\n",
      "Train: wpb=1000, num_updates=70000, accuracy=36.4, loss=3.98\n",
      "Train: wpb=1000, num_updates=71000, accuracy=36.4, loss=3.98\n",
      "Train: wpb=1000, num_updates=72000, accuracy=36.4, loss=3.98\n",
      "Train: wpb=1000, num_updates=73000, accuracy=36.4, loss=3.98\n",
      "Train: wpb=1000, num_updates=74000, accuracy=36.4, loss=3.98\n",
      "Train: wpb=1000, num_updates=75000, accuracy=36.4, loss=3.98\n",
      "Train: wpb=1000, num_updates=76000, accuracy=36.4, loss=3.98\n",
      "Train: wpb=1000, num_updates=77000, accuracy=36.4, loss=3.98\n",
      "Train: wpb=1000, num_updates=78000, accuracy=36.4, loss=3.98\n",
      "Train: wpb=1000, num_updates=79000, accuracy=36.4, loss=3.98\n",
      "Train: wpb=1000, num_updates=80000, accuracy=36.4, loss=3.98\n",
      "Train: wpb=1000, num_updates=81000, accuracy=36.4, loss=3.98\n",
      "Train: wpb=1000, num_updates=82000, accuracy=36.4, loss=3.98\n",
      "Train: wpb=999, num_updates=82285, accuracy=36.4, loss=3.98\n",
      "| epoch 004 | train accuracy=36.4%, train loss=3.98\n",
      "| epoch 004 | valid accuracy=33.8%, valid loss=4.26 (wikipedia)\n",
      "| epoch 004 | valid accuracy=23.3%, valid loss=5.29 (El Periódico)\n"
     ]
    }
   ],
   "source": [
    "optimizer = torch.optim.Adam(model.parameters())\n",
    "\n",
    "train_accuracy = []\n",
    "wiki_accuracy = []\n",
    "valid_accuracy = []\n",
    "for epoch in range(params.epochs):\n",
    "    acc, loss = train(model, criterion, optimizer, data[0][0], data[0][1], params.batch_size, device, log=True)\n",
    "    train_accuracy.append(acc)\n",
    "    print(f'| epoch {epoch:03d} | train accuracy={acc:.1f}%, train loss={loss:.2f}')\n",
    "    acc, loss = validate(model, criterion, data[1][0], data[1][1], params.batch_size, device)\n",
    "    wiki_accuracy.append(acc)\n",
    "    print(f'| epoch {epoch:03d} | valid accuracy={acc:.1f}%, valid loss={loss:.2f} (wikipedia)')\n",
    "    acc, loss = validate(model, criterion, valid_x, valid_y, params.batch_size, device)\n",
    "    valid_accuracy.append(acc)\n",
    "    print(f'| epoch {epoch:03d} | valid accuracy={acc:.1f}%, valid loss={loss:.2f} (El Periódico)')\n",
    "\n",
    "# Save model\n",
    "torch.save(model.state_dict(), params.modelname)"
   ]
  },
  {
   "cell_type": "code",
   "execution_count": 18,
   "id": "7759d50c",
   "metadata": {
    "execution": {
     "iopub.execute_input": "2025-02-20T00:40:26.117405Z",
     "iopub.status.busy": "2025-02-20T00:40:26.117029Z",
     "iopub.status.idle": "2025-02-20T00:40:26.252972Z",
     "shell.execute_reply": "2025-02-20T00:40:26.252242Z"
    },
    "papermill": {
     "duration": 0.160153,
     "end_time": "2025-02-20T00:40:26.255074",
     "exception": false,
     "start_time": "2025-02-20T00:40:26.094921",
     "status": "completed"
    },
    "tags": []
   },
   "outputs": [],
   "source": [
    "# Test prediction\n",
    "y_pred = validate(model, None, test_x, None, params.batch_size, device)\n",
    "y_token = [vocab.idx2token[index] for index in y_pred]"
   ]
  },
  {
   "cell_type": "code",
   "execution_count": 19,
   "id": "0f817285",
   "metadata": {
    "execution": {
     "iopub.execute_input": "2025-02-20T00:40:26.299299Z",
     "iopub.status.busy": "2025-02-20T00:40:26.298547Z",
     "iopub.status.idle": "2025-02-20T00:40:26.329627Z",
     "shell.execute_reply": "2025-02-20T00:40:26.328620Z"
    },
    "papermill": {
     "duration": 0.054697,
     "end_time": "2025-02-20T00:40:26.331407",
     "exception": false,
     "start_time": "2025-02-20T00:40:26.276710",
     "status": "completed"
    },
    "tags": []
   },
   "outputs": [
    {
     "name": "stdout",
     "output_type": "stream",
     "text": [
      "   id  token\n",
      "0   0      l\n",
      "1   1      s\n",
      "2   2  haver\n",
      "3   3     hi\n",
      "4   4     un\n"
     ]
    }
   ],
   "source": [
    "submission = pd.DataFrame({'id':valid_x_df['id'], 'token': y_token}, columns=['id', 'token'])\n",
    "print(submission.head())\n",
    "submission.to_csv('submission.csv', index=False)"
   ]
  }
 ],
 "metadata": {
  "kaggle": {
   "accelerator": "gpu",
   "dataSources": [
    {
     "databundleVersionId": 10947297,
     "sourceId": 92047,
     "sourceType": "competition"
    },
    {
     "sourceId": 220985820,
     "sourceType": "kernelVersion"
    }
   ],
   "dockerImageVersionId": 30356,
   "isGpuEnabled": true,
   "isInternetEnabled": true,
   "language": "python",
   "sourceType": "notebook"
  },
  "kernelspec": {
   "display_name": "Python 3",
   "language": "python",
   "name": "python3"
  },
  "language_info": {
   "codemirror_mode": {
    "name": "ipython",
    "version": 3
   },
   "file_extension": ".py",
   "mimetype": "text/x-python",
   "name": "python",
   "nbconvert_exporter": "python",
   "pygments_lexer": "ipython3",
   "version": "3.7.12"
  },
  "papermill": {
   "default_parameters": {},
   "duration": 15793.739454,
   "end_time": "2025-02-20T00:40:27.492289",
   "environment_variables": {},
   "exception": null,
   "input_path": "__notebook__.ipynb",
   "output_path": "__notebook__.ipynb",
   "parameters": {},
   "start_time": "2025-02-19T20:17:13.752835",
   "version": "2.3.4"
  }
 },
 "nbformat": 4,
 "nbformat_minor": 5
}
