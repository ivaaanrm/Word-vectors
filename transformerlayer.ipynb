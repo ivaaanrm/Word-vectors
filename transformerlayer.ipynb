{
 "cells": [
  {
   "cell_type": "code",
   "execution_count": 1,
   "id": "314ee28a",
   "metadata": {
    "_cell_guid": "02a82f73-0052-4173-9e8d-c24ad1ccf81e",
    "_uuid": "aa28fef3-a33d-432b-af01-adaa31a6401b",
    "collapsed": false,
    "execution": {
     "iopub.execute_input": "2025-02-26T13:31:46.660701Z",
     "iopub.status.busy": "2025-02-26T13:31:46.660430Z",
     "iopub.status.idle": "2025-02-26T13:31:50.372833Z",
     "shell.execute_reply": "2025-02-26T13:31:50.372156Z"
    },
    "jupyter": {
     "outputs_hidden": false
    },
    "papermill": {
     "duration": 3.719873,
     "end_time": "2025-02-26T13:31:50.374417",
     "exception": false,
     "start_time": "2025-02-26T13:31:46.654544",
     "status": "completed"
    },
    "tags": []
   },
   "outputs": [],
   "source": [
    "from types import SimpleNamespace\n",
    "from collections import Counter\n",
    "import os\n",
    "import re\n",
    "import pathlib\n",
    "import array\n",
    "import pickle\n",
    "import numpy as np\n",
    "import torch\n",
    "import torch.nn as nn\n",
    "import torch.nn.functional as F\n",
    "import pandas as pd\n",
    "import math"
   ]
  },
  {
   "cell_type": "code",
   "execution_count": 2,
   "id": "9f27c5d7",
   "metadata": {
    "_cell_guid": "b5abaff3-5d93-4e05-b936-31372ff25c92",
    "_uuid": "2af0f88a-44a1-40b0-bbd8-75d2fb5c9b76",
    "collapsed": false,
    "execution": {
     "iopub.execute_input": "2025-02-26T13:31:50.384574Z",
     "iopub.status.busy": "2025-02-26T13:31:50.384250Z",
     "iopub.status.idle": "2025-02-26T13:31:50.387413Z",
     "shell.execute_reply": "2025-02-26T13:31:50.386830Z"
    },
    "jupyter": {
     "outputs_hidden": false
    },
    "papermill": {
     "duration": 0.00925,
     "end_time": "2025-02-26T13:31:50.388536",
     "exception": false,
     "start_time": "2025-02-26T13:31:50.379286",
     "status": "completed"
    },
    "tags": []
   },
   "outputs": [],
   "source": [
    "DATASET_VERSION = 'ca-100'\n",
    "COMPETITION_ROOT = '../input/wordvectors'\n",
    "DATASET_ROOT = f'../input/text-preprocessing/data/{DATASET_VERSION}'\n",
    "WORKING_ROOT = f'data/{DATASET_VERSION}'\n",
    "DATASET_PREFIX = 'ca.wiki'"
   ]
  },
  {
   "cell_type": "code",
   "execution_count": 3,
   "id": "26afa9b5",
   "metadata": {
    "_cell_guid": "d61d2234-ca8c-440d-af42-4700ee9701be",
    "_uuid": "2a788b6c-3e3f-47df-a198-49c1b458b596",
    "collapsed": false,
    "execution": {
     "iopub.execute_input": "2025-02-26T13:31:50.397683Z",
     "iopub.status.busy": "2025-02-26T13:31:50.397476Z",
     "iopub.status.idle": "2025-02-26T13:31:50.400569Z",
     "shell.execute_reply": "2025-02-26T13:31:50.399986Z"
    },
    "jupyter": {
     "outputs_hidden": false
    },
    "papermill": {
     "duration": 0.008798,
     "end_time": "2025-02-26T13:31:50.401628",
     "exception": false,
     "start_time": "2025-02-26T13:31:50.392830",
     "status": "completed"
    },
    "tags": []
   },
   "outputs": [],
   "source": [
    "params = SimpleNamespace(\n",
    "    embedding_dim = 256,\n",
    "    window_size = 7,\n",
    "    batch_size = 2048,\n",
    "    epochs = 4,\n",
    "    preprocessed = f'{DATASET_ROOT}/{DATASET_PREFIX}',\n",
    "    working = f'{WORKING_ROOT}/{DATASET_PREFIX}',\n",
    "    modelname = f'{WORKING_ROOT}/{DATASET_VERSION}.pt',\n",
    "    train = True\n",
    ")"
   ]
  },
  {
   "cell_type": "code",
   "execution_count": 4,
   "id": "0a975978",
   "metadata": {
    "_cell_guid": "580d7b31-abec-42c7-a2ef-d8a35051725b",
    "_uuid": "aac012d2-8187-470c-906a-3e178bd7b1ac",
    "execution": {
     "iopub.execute_input": "2025-02-26T13:31:50.410801Z",
     "iopub.status.busy": "2025-02-26T13:31:50.410592Z",
     "iopub.status.idle": "2025-02-26T13:31:50.416665Z",
     "shell.execute_reply": "2025-02-26T13:31:50.416091Z"
    },
    "papermill": {
     "duration": 0.011918,
     "end_time": "2025-02-26T13:31:50.417797",
     "exception": false,
     "start_time": "2025-02-26T13:31:50.405879",
     "status": "completed"
    },
    "tags": []
   },
   "outputs": [],
   "source": [
    "class Vocabulary(object):\n",
    "    def __init__(self, pad_token='<pad>', unk_token='<unk>', eos_token='<eos>'):\n",
    "        self.token2idx = {}\n",
    "        self.idx2token = []\n",
    "        self.pad_token = pad_token\n",
    "        self.unk_token = unk_token\n",
    "        self.eos_token = eos_token\n",
    "        if pad_token is not None:\n",
    "            self.pad_index = self.add_token(pad_token)\n",
    "        if unk_token is not None:\n",
    "            self.unk_index = self.add_token(unk_token)\n",
    "        if eos_token is not None:\n",
    "            self.eos_index = self.add_token(eos_token)\n",
    "\n",
    "    def add_token(self, token):\n",
    "        if token not in self.token2idx:\n",
    "            self.idx2token.append(token)\n",
    "            self.token2idx[token] = len(self.idx2token) - 1\n",
    "        return self.token2idx[token]\n",
    "\n",
    "    def get_index(self, token):\n",
    "        if isinstance(token, str):\n",
    "            return self.token2idx.get(token, self.unk_index)\n",
    "        else:\n",
    "            return [self.token2idx.get(t, self.unk_index) for t in token]\n",
    "\n",
    "    def get_token(self, index):\n",
    "        return self.idx2token[index]\n",
    "\n",
    "    def __len__(self):\n",
    "        return len(self.idx2token)\n",
    "\n",
    "    def save(self, filename):\n",
    "        with open(filename, 'wb') as f:\n",
    "            pickle.dump(self.__dict__, f)\n",
    "\n",
    "    def load(self, filename):\n",
    "        with open(filename, 'rb') as f:\n",
    "            self.__dict__.update(pickle.load(f))"
   ]
  },
  {
   "cell_type": "code",
   "execution_count": 5,
   "id": "b89fb3d2",
   "metadata": {
    "_cell_guid": "65e5c998-1754-43aa-bf8c-292e9cdb41c8",
    "_uuid": "fe2b0810-8108-495e-86b8-b65d3d6668d6",
    "execution": {
     "iopub.execute_input": "2025-02-26T13:31:50.426802Z",
     "iopub.status.busy": "2025-02-26T13:31:50.426594Z",
     "iopub.status.idle": "2025-02-26T13:31:50.430226Z",
     "shell.execute_reply": "2025-02-26T13:31:50.429654Z"
    },
    "jupyter": {
     "source_hidden": true
    },
    "papermill": {
     "duration": 0.009461,
     "end_time": "2025-02-26T13:31:50.431423",
     "exception": false,
     "start_time": "2025-02-26T13:31:50.421962",
     "status": "completed"
    },
    "tags": []
   },
   "outputs": [],
   "source": [
    "def batch_generator(idata, target, batch_size, shuffle=True):\n",
    "    nsamples = len(idata)\n",
    "    if shuffle:\n",
    "        perm = np.random.permutation(nsamples)\n",
    "    else:\n",
    "        perm = range(nsamples)\n",
    "\n",
    "    for i in range(0, nsamples, batch_size):\n",
    "        batch_idx = perm[i:i+batch_size]\n",
    "        if target is not None:\n",
    "            yield idata[batch_idx], target[batch_idx]\n",
    "        else:\n",
    "            yield idata[batch_idx], None"
   ]
  },
  {
   "cell_type": "code",
   "execution_count": 6,
   "id": "2c30df3f",
   "metadata": {
    "_cell_guid": "ee143d2e-e4cf-4332-85d8-6a3317628fe3",
    "_uuid": "40f2252d-75c7-4c9a-af90-d0dc6308e970",
    "execution": {
     "iopub.execute_input": "2025-02-26T13:31:50.440522Z",
     "iopub.status.busy": "2025-02-26T13:31:50.440322Z",
     "iopub.status.idle": "2025-02-26T13:31:50.443983Z",
     "shell.execute_reply": "2025-02-26T13:31:50.443424Z"
    },
    "papermill": {
     "duration": 0.009373,
     "end_time": "2025-02-26T13:31:50.445041",
     "exception": false,
     "start_time": "2025-02-26T13:31:50.435668",
     "status": "completed"
    },
    "tags": []
   },
   "outputs": [],
   "source": [
    "def load_preprocessed_dataset(prefix):\n",
    "    # Try loading precomputed vocabulary and preprocessed data files\n",
    "    token_vocab = Vocabulary()\n",
    "    token_vocab.load(f'{prefix}.vocab')\n",
    "    data = []\n",
    "    for part in ['train', 'valid', 'test']:\n",
    "        with np.load(f'{prefix}.{part}.npz') as set_data:\n",
    "            idata, target = set_data['idata'], set_data['target']\n",
    "            data.append((idata, target))\n",
    "            print(f'Number of samples ({part}): {len(target)}')\n",
    "    print(\"Using precomputed vocabulary and data files\")\n",
    "    print(f'Vocabulary size: {len(token_vocab)}')\n",
    "    return token_vocab, data"
   ]
  },
  {
   "cell_type": "code",
   "execution_count": 7,
   "id": "bc46d14d",
   "metadata": {
    "_cell_guid": "1b4c3116-f2d0-40b9-9007-190b06bd7253",
    "_uuid": "2ce465ec-f1e7-400d-8f34-ffec827c1b31",
    "execution": {
     "iopub.execute_input": "2025-02-26T13:31:50.454117Z",
     "iopub.status.busy": "2025-02-26T13:31:50.453886Z",
     "iopub.status.idle": "2025-02-26T13:31:50.458968Z",
     "shell.execute_reply": "2025-02-26T13:31:50.458425Z"
    },
    "jupyter": {
     "source_hidden": true
    },
    "papermill": {
     "duration": 0.01075,
     "end_time": "2025-02-26T13:31:50.460048",
     "exception": false,
     "start_time": "2025-02-26T13:31:50.449298",
     "status": "completed"
    },
    "tags": []
   },
   "outputs": [],
   "source": [
    "def train(model, criterion, optimizer, idata, target, batch_size, device, log=False):\n",
    "    model.train()\n",
    "    total_loss = 0\n",
    "    ncorrect = 0\n",
    "    ntokens = 0\n",
    "    niterations = 0\n",
    "    for X, y in batch_generator(idata, target, batch_size, shuffle=True):\n",
    "        # Get input and target sequences from batch\n",
    "        X = torch.tensor(X, dtype=torch.long, device=device)\n",
    "        y = torch.tensor(y, dtype=torch.long, device=device)\n",
    "\n",
    "        model.zero_grad()\n",
    "        output = model(X)\n",
    "        loss = criterion(output, y)\n",
    "        loss.backward()\n",
    "        optimizer.step()\n",
    "        # Training statistics\n",
    "        total_loss += loss.item()\n",
    "        ncorrect += (torch.max(output, 1)[1] == y).sum().item()\n",
    "        ntokens += y.numel()\n",
    "        niterations += 1\n",
    "        if niterations == 200 or niterations == 500 or niterations % 1000 == 0:\n",
    "            print(f'Train: wpb={ntokens//niterations}, num_updates={niterations}, accuracy={100*ncorrect/ntokens:.1f}, loss={total_loss/ntokens:.2f}')\n",
    "\n",
    "    total_loss = total_loss / ntokens\n",
    "    accuracy = 100 * ncorrect / ntokens\n",
    "    if log:\n",
    "        print(f'Train: wpb={ntokens//niterations}, num_updates={niterations}, accuracy={accuracy:.1f}, loss={total_loss:.2f}')\n",
    "    return accuracy, total_loss"
   ]
  },
  {
   "cell_type": "code",
   "execution_count": 8,
   "id": "14bbbf49",
   "metadata": {
    "_cell_guid": "f1605789-35e7-4f29-a27d-0ba7c5b91b00",
    "_uuid": "f2e3d274-e777-4f01-8573-1fd9dcabcdb2",
    "execution": {
     "iopub.execute_input": "2025-02-26T13:31:50.469264Z",
     "iopub.status.busy": "2025-02-26T13:31:50.469070Z",
     "iopub.status.idle": "2025-02-26T13:31:50.474005Z",
     "shell.execute_reply": "2025-02-26T13:31:50.473447Z"
    },
    "jupyter": {
     "source_hidden": true
    },
    "papermill": {
     "duration": 0.010832,
     "end_time": "2025-02-26T13:31:50.475158",
     "exception": false,
     "start_time": "2025-02-26T13:31:50.464326",
     "status": "completed"
    },
    "tags": []
   },
   "outputs": [],
   "source": [
    "def validate(model, criterion, idata, target, batch_size, device):\n",
    "    model.eval()\n",
    "    total_loss = 0\n",
    "    ncorrect = 0\n",
    "    ntokens = 0\n",
    "    niterations = 0\n",
    "    y_pred = []\n",
    "    with torch.no_grad():\n",
    "        for X, y in batch_generator(idata, target, batch_size, shuffle=False):\n",
    "            # Get input and target sequences from batch\n",
    "            X = torch.tensor(X, dtype=torch.long, device=device)\n",
    "            output = model(X)\n",
    "            if target is not None:\n",
    "                y = torch.tensor(y, dtype=torch.long, device=device)\n",
    "                loss = criterion(output, y)\n",
    "                total_loss += loss.item()\n",
    "                ncorrect += (torch.max(output, 1)[1] == y).sum().item()\n",
    "                ntokens += y.numel()\n",
    "                niterations += 1\n",
    "            else:\n",
    "                pred = torch.max(output, 1)[1].detach().to('cpu').numpy()\n",
    "                y_pred.append(pred)\n",
    "\n",
    "    if target is not None:\n",
    "        total_loss = total_loss / ntokens\n",
    "        accuracy = 100 * ncorrect / ntokens\n",
    "        return accuracy, total_loss\n",
    "    else:\n",
    "        return np.concatenate(y_pred)"
   ]
  },
  {
   "cell_type": "code",
   "execution_count": 9,
   "id": "91d14468",
   "metadata": {
    "_cell_guid": "a3506e44-0a72-44bd-a59c-73f6f6c4a3a2",
    "_uuid": "1d3246f5-16ba-49d1-be7a-b45dfb3172b3",
    "collapsed": false,
    "execution": {
     "iopub.execute_input": "2025-02-26T13:31:50.484095Z",
     "iopub.status.busy": "2025-02-26T13:31:50.483861Z",
     "iopub.status.idle": "2025-02-26T13:31:50.487090Z",
     "shell.execute_reply": "2025-02-26T13:31:50.486344Z"
    },
    "jupyter": {
     "outputs_hidden": false
    },
    "papermill": {
     "duration": 0.008944,
     "end_time": "2025-02-26T13:31:50.488239",
     "exception": false,
     "start_time": "2025-02-26T13:31:50.479295",
     "status": "completed"
    },
    "tags": []
   },
   "outputs": [],
   "source": [
    "# Create working dir\n",
    "pathlib.Path(WORKING_ROOT).mkdir(parents=True, exist_ok=True)"
   ]
  },
  {
   "cell_type": "code",
   "execution_count": 10,
   "id": "0da53fe9",
   "metadata": {
    "_cell_guid": "18bddc1e-17ac-4124-8dfc-f0c290ca08da",
    "_uuid": "a73165e5-f26e-45ae-bf33-2a40d4740dd6",
    "collapsed": false,
    "execution": {
     "iopub.execute_input": "2025-02-26T13:31:50.497262Z",
     "iopub.status.busy": "2025-02-26T13:31:50.497070Z",
     "iopub.status.idle": "2025-02-26T13:31:50.545889Z",
     "shell.execute_reply": "2025-02-26T13:31:50.545256Z"
    },
    "jupyter": {
     "outputs_hidden": false
    },
    "papermill": {
     "duration": 0.054551,
     "end_time": "2025-02-26T13:31:50.546971",
     "exception": false,
     "start_time": "2025-02-26T13:31:50.492420",
     "status": "completed"
    },
    "tags": []
   },
   "outputs": [],
   "source": [
    "# Select device\n",
    "if torch.cuda.is_available():\n",
    "    device = torch.device('cuda')\n",
    "else:\n",
    "    device = torch.device('cpu')\n",
    "    print(\"WARNING: Training without GPU can be very slow!\")"
   ]
  },
  {
   "cell_type": "code",
   "execution_count": 11,
   "id": "20f52896",
   "metadata": {
    "_cell_guid": "d0bc4236-9a47-42b1-af9b-403d0643e3ce",
    "_uuid": "299fa87f-d3bb-4923-983e-d4f317115a2d",
    "collapsed": false,
    "execution": {
     "iopub.execute_input": "2025-02-26T13:31:50.556348Z",
     "iopub.status.busy": "2025-02-26T13:31:50.556143Z",
     "iopub.status.idle": "2025-02-26T13:32:08.918742Z",
     "shell.execute_reply": "2025-02-26T13:32:08.917667Z"
    },
    "jupyter": {
     "outputs_hidden": false
    },
    "papermill": {
     "duration": 18.368874,
     "end_time": "2025-02-26T13:32:08.920217",
     "exception": false,
     "start_time": "2025-02-26T13:31:50.551343",
     "status": "completed"
    },
    "tags": []
   },
   "outputs": [
    {
     "name": "stdout",
     "output_type": "stream",
     "text": [
      "Number of samples (train): 82284341\n",
      "Number of samples (valid): 164765\n",
      "Number of samples (test): 165837\n",
      "Using precomputed vocabulary and data files\n",
      "Vocabulary size: 100002\n"
     ]
    }
   ],
   "source": [
    "vocab, data = load_preprocessed_dataset(params.preprocessed)"
   ]
  },
  {
   "cell_type": "code",
   "execution_count": 12,
   "id": "212d4a86",
   "metadata": {
    "_cell_guid": "855a672b-b1ba-4745-83ec-d5a1560b35ad",
    "_uuid": "e0893212-76bd-4f04-90d1-3b9f5387db7a",
    "collapsed": false,
    "execution": {
     "iopub.execute_input": "2025-02-26T13:32:08.931225Z",
     "iopub.status.busy": "2025-02-26T13:32:08.930947Z",
     "iopub.status.idle": "2025-02-26T13:32:09.068956Z",
     "shell.execute_reply": "2025-02-26T13:32:09.068037Z"
    },
    "jupyter": {
     "outputs_hidden": false
    },
    "papermill": {
     "duration": 0.145618,
     "end_time": "2025-02-26T13:32:09.070601",
     "exception": false,
     "start_time": "2025-02-26T13:32:08.924983",
     "status": "completed"
    },
    "tags": []
   },
   "outputs": [],
   "source": [
    "# 'El Periodico' validation dataset\n",
    "valid_x_df = pd.read_csv(f'{COMPETITION_ROOT}/x_valid.csv')\n",
    "tokens = valid_x_df.columns[1:]\n",
    "valid_x = valid_x_df[tokens].apply(vocab.get_index).to_numpy(dtype='int32')\n",
    "valid_y_df = pd.read_csv(f'{COMPETITION_ROOT}/y_valid.csv')\n",
    "valid_y = valid_y_df['token'].apply(vocab.get_index).to_numpy(dtype='int32')"
   ]
  },
  {
   "cell_type": "code",
   "execution_count": 13,
   "id": "cc3bc11e",
   "metadata": {
    "_cell_guid": "5e370d1c-5d38-4cbc-beb4-f55ce405dbed",
    "_uuid": "d556e338-1b79-44a5-9348-2c0cbc54541c",
    "collapsed": false,
    "execution": {
     "iopub.execute_input": "2025-02-26T13:32:09.080525Z",
     "iopub.status.busy": "2025-02-26T13:32:09.080276Z",
     "iopub.status.idle": "2025-02-26T13:32:09.084774Z",
     "shell.execute_reply": "2025-02-26T13:32:09.083982Z"
    },
    "jupyter": {
     "outputs_hidden": false
    },
    "papermill": {
     "duration": 0.010601,
     "end_time": "2025-02-26T13:32:09.085920",
     "exception": false,
     "start_time": "2025-02-26T13:32:09.075319",
     "status": "completed"
    },
    "tags": []
   },
   "outputs": [],
   "source": [
    "def attention(query, key, value, mask=None, dropout=None):\n",
    "    \"Compute 'Scaled Dot Product Attention'\"\n",
    "    d_k = query.size(-1)\n",
    "    scores = torch.matmul(query, key.transpose(-2, -1)) \\\n",
    "             / math.sqrt(d_k)\n",
    "    if mask is not None:\n",
    "        scores = scores.masked_fill(mask == 0, float('-Inf'))\n",
    "    p_attn = F.softmax(scores, dim = -1)\n",
    "    if dropout is not None:\n",
    "        p_attn = dropout(p_attn)\n",
    "    return torch.matmul(p_attn, value), p_attn"
   ]
  },
  {
   "cell_type": "markdown",
   "id": "cea030b0",
   "metadata": {
    "_cell_guid": "fc8d2285-e683-4968-8c36-9dec55563456",
    "_uuid": "a5e8cc5d-852d-4d68-8f18-ee4049234fe8",
    "collapsed": false,
    "jupyter": {
     "outputs_hidden": false
    },
    "papermill": {
     "duration": 0.004271,
     "end_time": "2025-02-26T13:32:09.094563",
     "exception": false,
     "start_time": "2025-02-26T13:32:09.090292",
     "status": "completed"
    },
    "tags": []
   },
   "source": [
    "The **xavier_normal_()** initialization function fills the input Tensor with values according to the method described in **Understanding the difficulty of training deep feedforward neural networks** - Glorot, X. & Bengio, Y. (2010), using a uniform distribution. The resulting tensor will have values sampled from a uniform distribution \\\\(\\mathcal{U}(-a, a)\\\\) where\n",
    "\n",
    "\\\\(    a = \\text{gain} \\times \\sqrt{\\frac{6}{\\text{fan\\_in} + \\text{fan\\_out}}}\\\\)\n",
    "\n",
    "Also known as Glorot initialization."
   ]
  },
  {
   "cell_type": "code",
   "execution_count": 14,
   "id": "1b8f81b0",
   "metadata": {
    "_cell_guid": "0d133b30-82eb-4df0-8778-f5c6887e78d0",
    "_uuid": "da5f53c5-4573-4639-873e-719f2a69378d",
    "collapsed": false,
    "execution": {
     "iopub.execute_input": "2025-02-26T13:32:09.104015Z",
     "iopub.status.busy": "2025-02-26T13:32:09.103769Z",
     "iopub.status.idle": "2025-02-26T13:32:09.109762Z",
     "shell.execute_reply": "2025-02-26T13:32:09.108971Z"
    },
    "jupyter": {
     "outputs_hidden": false
    },
    "papermill": {
     "duration": 0.01202,
     "end_time": "2025-02-26T13:32:09.110919",
     "exception": false,
     "start_time": "2025-02-26T13:32:09.098899",
     "status": "completed"
    },
    "tags": []
   },
   "outputs": [],
   "source": [
    "class SelfAttention(nn.Module):\n",
    "    def __init__(self, embed_dim, bias=True):\n",
    "        super().__init__()\n",
    "        self.k_proj = nn.Linear(embed_dim, embed_dim, bias=bias)\n",
    "        self.v_proj = nn.Linear(embed_dim, embed_dim, bias=bias)\n",
    "        self.q_proj = nn.Linear(embed_dim, embed_dim, bias=bias)\n",
    "        self.out_proj = nn.Linear(embed_dim, embed_dim, bias=bias)\n",
    "        self.reset_parameters()\n",
    "\n",
    "    def reset_parameters(self):\n",
    "        # Empirically observed the convergence to be much better with the scaled initialization\n",
    "        nn.init.xavier_uniform_(self.k_proj.weight, gain=1 / math.sqrt(2))\n",
    "        nn.init.xavier_uniform_(self.v_proj.weight, gain=1 / math.sqrt(2))\n",
    "        nn.init.xavier_uniform_(self.q_proj.weight, gain=1 / math.sqrt(2))\n",
    "        nn.init.xavier_uniform_(self.out_proj.weight)\n",
    "        if self.out_proj.bias is not None:\n",
    "            nn.init.constant_(self.out_proj.bias, 0.)\n",
    "\n",
    "    # B = Batch size\n",
    "    # W = Number of context words (left + right)\n",
    "    # E = embedding_dim\n",
    "    def forward(self, x):\n",
    "        # x shape is (B, W, E)\n",
    "        q = self.q_proj(x)\n",
    "        # q shape is (B, W, E)\n",
    "        k = self.k_proj(x)\n",
    "        # k shape is (B, W, E)\n",
    "        v = self.v_proj(x)\n",
    "        # k shape is (B, W, E)\n",
    "        y, _ = attention(q, k, v)\n",
    "        # y shape is (B, W, E)\n",
    "        y = self.out_proj(y)\n",
    "        # y shape is (B, W, E)\n",
    "        return y"
   ]
  },
  {
   "cell_type": "code",
   "execution_count": 15,
   "id": "250a8b92",
   "metadata": {
    "_cell_guid": "134497be-5c10-4888-b8a2-0ebfe3ab4097",
    "_uuid": "429a8e33-e183-417d-9298-40bee9191849",
    "collapsed": false,
    "execution": {
     "iopub.execute_input": "2025-02-26T13:32:09.120243Z",
     "iopub.status.busy": "2025-02-26T13:32:09.120035Z",
     "iopub.status.idle": "2025-02-26T13:32:09.124861Z",
     "shell.execute_reply": "2025-02-26T13:32:09.124264Z"
    },
    "jupyter": {
     "outputs_hidden": false
    },
    "papermill": {
     "duration": 0.010875,
     "end_time": "2025-02-26T13:32:09.126088",
     "exception": false,
     "start_time": "2025-02-26T13:32:09.115213",
     "status": "completed"
    },
    "tags": []
   },
   "outputs": [],
   "source": [
    "class TransformerLayer(nn.Module):\n",
    "    def __init__(self, d_model, dim_feedforward=512, dropout=0.1, activation=\"relu\"):\n",
    "        super().__init__()\n",
    "        self.self_attn = SelfAttention(d_model)\n",
    "        # Implementation of Feedforward model\n",
    "        self.linear1 = nn.Linear(d_model, dim_feedforward)\n",
    "        self.dropout = nn.Dropout(dropout)\n",
    "        self.linear2 = nn.Linear(dim_feedforward, d_model)\n",
    "        self.norm1 = nn.LayerNorm(d_model)\n",
    "        self.norm2 = nn.LayerNorm(d_model)\n",
    "        self.dropout1 = nn.Dropout(dropout)\n",
    "        self.dropout2 = nn.Dropout(dropout)\n",
    "\n",
    "    def forward(self, src):\n",
    "        src2 = self.self_attn(src)\n",
    "        src = src + self.dropout1(src2)\n",
    "        src = self.norm1(src)\n",
    "        src2 = self.linear2(self.dropout(F.relu(self.linear1(src))))\n",
    "        src = src + self.dropout2(src2)\n",
    "        src = self.norm2(src)\n",
    "        return src"
   ]
  },
  {
   "cell_type": "code",
   "execution_count": 16,
   "id": "06f9bbf3",
   "metadata": {
    "_cell_guid": "b24c166b-dd0b-4b04-a205-e4a70e0a7804",
    "_uuid": "b29bdcf1-e274-43c0-a541-67bccea2f14d",
    "collapsed": false,
    "execution": {
     "iopub.execute_input": "2025-02-26T13:32:09.135446Z",
     "iopub.status.busy": "2025-02-26T13:32:09.135226Z",
     "iopub.status.idle": "2025-02-26T13:32:09.139859Z",
     "shell.execute_reply": "2025-02-26T13:32:09.139245Z"
    },
    "jupyter": {
     "outputs_hidden": false
    },
    "papermill": {
     "duration": 0.010462,
     "end_time": "2025-02-26T13:32:09.140919",
     "exception": false,
     "start_time": "2025-02-26T13:32:09.130457",
     "status": "completed"
    },
    "tags": []
   },
   "outputs": [],
   "source": [
    "class Predictor(nn.Module):\n",
    "    def __init__(self, num_embeddings, embedding_dim, context_words=params.window_size-1):\n",
    "        super().__init__()\n",
    "        self.emb = nn.Embedding(num_embeddings, embedding_dim, padding_idx=0)\n",
    "        self.lin = nn.Linear(embedding_dim, num_embeddings, bias=False)\n",
    "        self.att = TransformerLayer(embedding_dim)\n",
    "        self.position_embedding = nn.Parameter(torch.Tensor(context_words, embedding_dim))\n",
    "        nn.init.xavier_uniform_(self.position_embedding)\n",
    "\n",
    "    # B = Batch size\n",
    "    # W = Number of context words (left + right)\n",
    "    # E = embedding_dim\n",
    "    # V = num_embeddings (number of words)\n",
    "    def forward(self, input):\n",
    "        # input shape is (B, W)\n",
    "        e = self.emb(input)\n",
    "        # e shape is (B, W, E)\n",
    "        u = e + self.position_embedding\n",
    "        # u shape is (B, W, E)\n",
    "        v = self.att(u)\n",
    "        # v shape is (B, W, E)\n",
    "        x = v.sum(dim=1)\n",
    "        # x shape is (B, E)\n",
    "        y = self.lin(x)\n",
    "        # y shape is (B, V)\n",
    "        return y"
   ]
  },
  {
   "cell_type": "code",
   "execution_count": 17,
   "id": "9bca4b81",
   "metadata": {
    "_cell_guid": "8ac61f54-dc04-4d13-90cd-4ea96096722b",
    "_uuid": "d3204e21-fbe9-40fc-848f-f16614a8c792",
    "collapsed": false,
    "execution": {
     "iopub.execute_input": "2025-02-26T13:32:09.150174Z",
     "iopub.status.busy": "2025-02-26T13:32:09.149945Z",
     "iopub.status.idle": "2025-02-26T13:32:09.867369Z",
     "shell.execute_reply": "2025-02-26T13:32:09.866374Z"
    },
    "jupyter": {
     "outputs_hidden": false
    },
    "papermill": {
     "duration": 0.724482,
     "end_time": "2025-02-26T13:32:09.869667",
     "exception": false,
     "start_time": "2025-02-26T13:32:09.145185",
     "status": "completed"
    },
    "tags": []
   },
   "outputs": [],
   "source": [
    "model = Predictor(len(vocab), params.embedding_dim).to(device)"
   ]
  },
  {
   "cell_type": "code",
   "execution_count": 18,
   "id": "fb430d50",
   "metadata": {
    "_cell_guid": "ead6ae5c-900f-47b0-8f54-058f162d3228",
    "_uuid": "db5a77b3-5fc1-4958-aef0-eb5c080b9698",
    "collapsed": false,
    "execution": {
     "iopub.execute_input": "2025-02-26T13:32:09.887132Z",
     "iopub.status.busy": "2025-02-26T13:32:09.886805Z",
     "iopub.status.idle": "2025-02-26T13:32:09.895949Z",
     "shell.execute_reply": "2025-02-26T13:32:09.893078Z"
    },
    "jupyter": {
     "outputs_hidden": false
    },
    "papermill": {
     "duration": 0.019083,
     "end_time": "2025-02-26T13:32:09.897405",
     "exception": false,
     "start_time": "2025-02-26T13:32:09.878322",
     "status": "completed"
    },
    "tags": []
   },
   "outputs": [
    {
     "name": "stdout",
     "output_type": "stream",
     "text": [
      "Predictor(\n",
      "  (emb): Embedding(100002, 256, padding_idx=0)\n",
      "  (lin): Linear(in_features=256, out_features=100002, bias=False)\n",
      "  (att): TransformerLayer(\n",
      "    (self_attn): SelfAttention(\n",
      "      (k_proj): Linear(in_features=256, out_features=256, bias=True)\n",
      "      (v_proj): Linear(in_features=256, out_features=256, bias=True)\n",
      "      (q_proj): Linear(in_features=256, out_features=256, bias=True)\n",
      "      (out_proj): Linear(in_features=256, out_features=256, bias=True)\n",
      "    )\n",
      "    (linear1): Linear(in_features=256, out_features=512, bias=True)\n",
      "    (dropout): Dropout(p=0.1, inplace=False)\n",
      "    (linear2): Linear(in_features=512, out_features=256, bias=True)\n",
      "    (norm1): LayerNorm((256,), eps=1e-05, elementwise_affine=True)\n",
      "    (norm2): LayerNorm((256,), eps=1e-05, elementwise_affine=True)\n",
      "    (dropout1): Dropout(p=0.1, inplace=False)\n",
      "    (dropout2): Dropout(p=0.1, inplace=False)\n",
      "  )\n",
      ")\n",
      "position_embedding   1536 [6, 256]\n",
      "emb.weight           25600512 [100002, 256]\n",
      "lin.weight           25600512 [100002, 256]\n",
      "att.self_attn.k_proj.weight 65536 [256, 256]\n",
      "att.self_attn.k_proj.bias 256 [256]\n",
      "att.self_attn.v_proj.weight 65536 [256, 256]\n",
      "att.self_attn.v_proj.bias 256 [256]\n",
      "att.self_attn.q_proj.weight 65536 [256, 256]\n",
      "att.self_attn.q_proj.bias 256 [256]\n",
      "att.self_attn.out_proj.weight 65536 [256, 256]\n",
      "att.self_attn.out_proj.bias 256 [256]\n",
      "att.linear1.weight   131072 [512, 256]\n",
      "att.linear1.bias     512 [512]\n",
      "att.linear2.weight   131072 [256, 512]\n",
      "att.linear2.bias     256 [256]\n",
      "att.norm1.weight     256 [256]\n",
      "att.norm1.bias       256 [256]\n",
      "att.norm2.weight     256 [256]\n",
      "att.norm2.bias       256 [256]\n",
      "TOTAL                51729664\n"
     ]
    }
   ],
   "source": [
    "print(model)\n",
    "for name, param in model.named_parameters():\n",
    "    print(f'{name:20} {param.numel()} {list(param.shape)}')\n",
    "print(f'TOTAL                {sum(p.numel() for p in model.parameters())}')"
   ]
  },
  {
   "cell_type": "code",
   "execution_count": 19,
   "id": "e1bb1bb3",
   "metadata": {
    "_cell_guid": "4844ab69-1f76-46b2-a00d-ca9a1dbc65e6",
    "_uuid": "dac47d75-0978-4c3c-b2c5-db609b92e0a0",
    "collapsed": false,
    "execution": {
     "iopub.execute_input": "2025-02-26T13:32:09.907425Z",
     "iopub.status.busy": "2025-02-26T13:32:09.907199Z",
     "iopub.status.idle": "2025-02-26T17:08:18.287838Z",
     "shell.execute_reply": "2025-02-26T17:08:18.287062Z"
    },
    "jupyter": {
     "outputs_hidden": false
    },
    "papermill": {
     "duration": 12968.387445,
     "end_time": "2025-02-26T17:08:18.289608",
     "exception": false,
     "start_time": "2025-02-26T13:32:09.902163",
     "status": "completed"
    },
    "tags": []
   },
   "outputs": [
    {
     "name": "stdout",
     "output_type": "stream",
     "text": [
      "Train: wpb=2048, num_updates=200, accuracy=12.8, loss=7.27\n",
      "Train: wpb=2048, num_updates=500, accuracy=17.8, loss=6.50\n",
      "Train: wpb=2048, num_updates=1000, accuracy=21.5, loss=5.97\n",
      "Train: wpb=2048, num_updates=2000, accuracy=25.6, loss=5.46\n",
      "Train: wpb=2048, num_updates=3000, accuracy=28.1, loss=5.17\n",
      "Train: wpb=2048, num_updates=4000, accuracy=29.7, loss=4.98\n",
      "Train: wpb=2048, num_updates=5000, accuracy=31.0, loss=4.84\n",
      "Train: wpb=2048, num_updates=6000, accuracy=32.0, loss=4.72\n",
      "Train: wpb=2048, num_updates=7000, accuracy=32.8, loss=4.63\n",
      "Train: wpb=2048, num_updates=8000, accuracy=33.5, loss=4.55\n",
      "Train: wpb=2048, num_updates=9000, accuracy=34.1, loss=4.48\n",
      "Train: wpb=2048, num_updates=10000, accuracy=34.6, loss=4.42\n",
      "Train: wpb=2048, num_updates=11000, accuracy=35.1, loss=4.37\n",
      "Train: wpb=2048, num_updates=12000, accuracy=35.5, loss=4.33\n",
      "Train: wpb=2048, num_updates=13000, accuracy=35.9, loss=4.28\n",
      "Train: wpb=2048, num_updates=14000, accuracy=36.2, loss=4.24\n",
      "Train: wpb=2048, num_updates=15000, accuracy=36.5, loss=4.21\n",
      "Train: wpb=2048, num_updates=16000, accuracy=36.8, loss=4.18\n",
      "Train: wpb=2048, num_updates=17000, accuracy=37.0, loss=4.15\n",
      "Train: wpb=2048, num_updates=18000, accuracy=37.3, loss=4.12\n",
      "Train: wpb=2048, num_updates=19000, accuracy=37.5, loss=4.09\n",
      "Train: wpb=2048, num_updates=20000, accuracy=37.7, loss=4.07\n",
      "Train: wpb=2048, num_updates=21000, accuracy=37.9, loss=4.05\n",
      "Train: wpb=2048, num_updates=22000, accuracy=38.1, loss=4.03\n",
      "Train: wpb=2048, num_updates=23000, accuracy=38.3, loss=4.00\n",
      "Train: wpb=2048, num_updates=24000, accuracy=38.4, loss=3.99\n",
      "Train: wpb=2048, num_updates=25000, accuracy=38.6, loss=3.97\n",
      "Train: wpb=2048, num_updates=26000, accuracy=38.7, loss=3.95\n",
      "Train: wpb=2048, num_updates=27000, accuracy=38.9, loss=3.93\n",
      "Train: wpb=2048, num_updates=28000, accuracy=39.0, loss=3.92\n",
      "Train: wpb=2048, num_updates=29000, accuracy=39.2, loss=3.90\n",
      "Train: wpb=2048, num_updates=30000, accuracy=39.3, loss=3.89\n",
      "Train: wpb=2048, num_updates=31000, accuracy=39.4, loss=3.88\n",
      "Train: wpb=2048, num_updates=32000, accuracy=39.5, loss=3.86\n",
      "Train: wpb=2048, num_updates=33000, accuracy=39.6, loss=3.85\n",
      "Train: wpb=2048, num_updates=34000, accuracy=39.7, loss=3.84\n",
      "Train: wpb=2048, num_updates=35000, accuracy=39.8, loss=3.83\n",
      "Train: wpb=2048, num_updates=36000, accuracy=39.9, loss=3.81\n",
      "Train: wpb=2048, num_updates=37000, accuracy=40.0, loss=3.80\n",
      "Train: wpb=2048, num_updates=38000, accuracy=40.1, loss=3.79\n",
      "Train: wpb=2048, num_updates=39000, accuracy=40.2, loss=3.78\n",
      "Train: wpb=2048, num_updates=40000, accuracy=40.3, loss=3.77\n",
      "Train: wpb=2047, num_updates=40178, accuracy=40.3, loss=3.77\n",
      "| epoch 000 | train accuracy=40.3%, train loss=3.77\n",
      "| epoch 000 | valid accuracy=43.0%, valid loss=3.45 (wikipedia)\n",
      "| epoch 000 | valid accuracy=33.1%, valid loss=4.33 (El Periódico)\n",
      "Train: wpb=2048, num_updates=200, accuracy=44.2, loss=3.30\n",
      "Train: wpb=2048, num_updates=500, accuracy=44.1, loss=3.30\n",
      "Train: wpb=2048, num_updates=1000, accuracy=44.1, loss=3.30\n",
      "Train: wpb=2048, num_updates=2000, accuracy=44.2, loss=3.30\n",
      "Train: wpb=2048, num_updates=3000, accuracy=44.2, loss=3.30\n",
      "Train: wpb=2048, num_updates=4000, accuracy=44.2, loss=3.30\n",
      "Train: wpb=2048, num_updates=5000, accuracy=44.2, loss=3.30\n",
      "Train: wpb=2048, num_updates=6000, accuracy=44.2, loss=3.30\n",
      "Train: wpb=2048, num_updates=7000, accuracy=44.3, loss=3.30\n",
      "Train: wpb=2048, num_updates=8000, accuracy=44.3, loss=3.30\n",
      "Train: wpb=2048, num_updates=9000, accuracy=44.3, loss=3.30\n",
      "Train: wpb=2048, num_updates=10000, accuracy=44.3, loss=3.30\n",
      "Train: wpb=2048, num_updates=11000, accuracy=44.3, loss=3.30\n",
      "Train: wpb=2048, num_updates=12000, accuracy=44.3, loss=3.30\n",
      "Train: wpb=2048, num_updates=13000, accuracy=44.3, loss=3.29\n",
      "Train: wpb=2048, num_updates=14000, accuracy=44.4, loss=3.29\n",
      "Train: wpb=2048, num_updates=15000, accuracy=44.4, loss=3.29\n",
      "Train: wpb=2048, num_updates=16000, accuracy=44.4, loss=3.29\n",
      "Train: wpb=2048, num_updates=17000, accuracy=44.4, loss=3.29\n",
      "Train: wpb=2048, num_updates=18000, accuracy=44.4, loss=3.29\n",
      "Train: wpb=2048, num_updates=19000, accuracy=44.5, loss=3.29\n",
      "Train: wpb=2048, num_updates=20000, accuracy=44.5, loss=3.29\n",
      "Train: wpb=2048, num_updates=21000, accuracy=44.5, loss=3.28\n",
      "Train: wpb=2048, num_updates=22000, accuracy=44.5, loss=3.28\n",
      "Train: wpb=2048, num_updates=23000, accuracy=44.5, loss=3.28\n",
      "Train: wpb=2048, num_updates=24000, accuracy=44.5, loss=3.28\n",
      "Train: wpb=2048, num_updates=25000, accuracy=44.6, loss=3.28\n",
      "Train: wpb=2048, num_updates=26000, accuracy=44.6, loss=3.28\n",
      "Train: wpb=2048, num_updates=27000, accuracy=44.6, loss=3.28\n",
      "Train: wpb=2048, num_updates=28000, accuracy=44.6, loss=3.28\n",
      "Train: wpb=2048, num_updates=29000, accuracy=44.6, loss=3.27\n",
      "Train: wpb=2048, num_updates=30000, accuracy=44.6, loss=3.27\n",
      "Train: wpb=2048, num_updates=31000, accuracy=44.6, loss=3.27\n",
      "Train: wpb=2048, num_updates=32000, accuracy=44.7, loss=3.27\n",
      "Train: wpb=2048, num_updates=33000, accuracy=44.7, loss=3.27\n",
      "Train: wpb=2048, num_updates=34000, accuracy=44.7, loss=3.27\n",
      "Train: wpb=2048, num_updates=35000, accuracy=44.7, loss=3.27\n",
      "Train: wpb=2048, num_updates=36000, accuracy=44.7, loss=3.27\n",
      "Train: wpb=2048, num_updates=37000, accuracy=44.7, loss=3.26\n",
      "Train: wpb=2048, num_updates=38000, accuracy=44.8, loss=3.26\n",
      "Train: wpb=2048, num_updates=39000, accuracy=44.8, loss=3.26\n",
      "Train: wpb=2048, num_updates=40000, accuracy=44.8, loss=3.26\n",
      "Train: wpb=2047, num_updates=40178, accuracy=44.8, loss=3.26\n",
      "| epoch 001 | train accuracy=44.8%, train loss=3.26\n",
      "| epoch 001 | valid accuracy=44.5%, valid loss=3.31 (wikipedia)\n",
      "| epoch 001 | valid accuracy=34.1%, valid loss=4.20 (El Periódico)\n",
      "Train: wpb=2048, num_updates=200, accuracy=45.9, loss=3.11\n",
      "Train: wpb=2048, num_updates=500, accuracy=45.9, loss=3.11\n",
      "Train: wpb=2048, num_updates=1000, accuracy=45.8, loss=3.12\n",
      "Train: wpb=2048, num_updates=2000, accuracy=45.8, loss=3.12\n",
      "Train: wpb=2048, num_updates=3000, accuracy=45.8, loss=3.12\n",
      "Train: wpb=2048, num_updates=4000, accuracy=45.8, loss=3.12\n",
      "Train: wpb=2048, num_updates=5000, accuracy=45.8, loss=3.13\n",
      "Train: wpb=2048, num_updates=6000, accuracy=45.8, loss=3.13\n",
      "Train: wpb=2048, num_updates=7000, accuracy=45.8, loss=3.13\n",
      "Train: wpb=2048, num_updates=8000, accuracy=45.8, loss=3.13\n",
      "Train: wpb=2048, num_updates=9000, accuracy=45.8, loss=3.13\n",
      "Train: wpb=2048, num_updates=10000, accuracy=45.8, loss=3.13\n",
      "Train: wpb=2048, num_updates=11000, accuracy=45.8, loss=3.13\n",
      "Train: wpb=2048, num_updates=12000, accuracy=45.8, loss=3.13\n",
      "Train: wpb=2048, num_updates=13000, accuracy=45.8, loss=3.13\n",
      "Train: wpb=2048, num_updates=14000, accuracy=45.8, loss=3.13\n",
      "Train: wpb=2048, num_updates=15000, accuracy=45.8, loss=3.13\n",
      "Train: wpb=2048, num_updates=16000, accuracy=45.8, loss=3.13\n",
      "Train: wpb=2048, num_updates=17000, accuracy=45.9, loss=3.13\n",
      "Train: wpb=2048, num_updates=18000, accuracy=45.9, loss=3.13\n",
      "Train: wpb=2048, num_updates=19000, accuracy=45.9, loss=3.14\n",
      "Train: wpb=2048, num_updates=20000, accuracy=45.9, loss=3.14\n",
      "Train: wpb=2048, num_updates=21000, accuracy=45.9, loss=3.14\n",
      "Train: wpb=2048, num_updates=22000, accuracy=45.9, loss=3.14\n",
      "Train: wpb=2048, num_updates=23000, accuracy=45.9, loss=3.14\n",
      "Train: wpb=2048, num_updates=24000, accuracy=45.9, loss=3.14\n",
      "Train: wpb=2048, num_updates=25000, accuracy=45.9, loss=3.14\n",
      "Train: wpb=2048, num_updates=26000, accuracy=45.9, loss=3.14\n",
      "Train: wpb=2048, num_updates=27000, accuracy=45.9, loss=3.14\n",
      "Train: wpb=2048, num_updates=28000, accuracy=45.9, loss=3.14\n",
      "Train: wpb=2048, num_updates=29000, accuracy=45.9, loss=3.14\n",
      "Train: wpb=2048, num_updates=30000, accuracy=45.9, loss=3.14\n",
      "Train: wpb=2048, num_updates=31000, accuracy=45.9, loss=3.14\n",
      "Train: wpb=2048, num_updates=32000, accuracy=45.9, loss=3.14\n",
      "Train: wpb=2048, num_updates=33000, accuracy=45.9, loss=3.13\n",
      "Train: wpb=2048, num_updates=34000, accuracy=45.9, loss=3.13\n",
      "Train: wpb=2048, num_updates=35000, accuracy=45.9, loss=3.13\n",
      "Train: wpb=2048, num_updates=36000, accuracy=45.9, loss=3.13\n",
      "Train: wpb=2048, num_updates=37000, accuracy=45.9, loss=3.13\n",
      "Train: wpb=2048, num_updates=38000, accuracy=46.0, loss=3.13\n",
      "Train: wpb=2048, num_updates=39000, accuracy=46.0, loss=3.13\n",
      "Train: wpb=2048, num_updates=40000, accuracy=46.0, loss=3.13\n",
      "Train: wpb=2047, num_updates=40178, accuracy=46.0, loss=3.13\n",
      "| epoch 002 | train accuracy=46.0%, train loss=3.13\n",
      "| epoch 002 | valid accuracy=45.0%, valid loss=3.25 (wikipedia)\n",
      "| epoch 002 | valid accuracy=34.5%, valid loss=4.15 (El Periódico)\n",
      "Train: wpb=2048, num_updates=200, accuracy=46.7, loss=3.02\n",
      "Train: wpb=2048, num_updates=500, accuracy=46.8, loss=3.03\n",
      "Train: wpb=2048, num_updates=1000, accuracy=46.8, loss=3.03\n",
      "Train: wpb=2048, num_updates=2000, accuracy=46.7, loss=3.03\n",
      "Train: wpb=2048, num_updates=3000, accuracy=46.7, loss=3.03\n",
      "Train: wpb=2048, num_updates=4000, accuracy=46.7, loss=3.04\n",
      "Train: wpb=2048, num_updates=5000, accuracy=46.7, loss=3.04\n",
      "Train: wpb=2048, num_updates=6000, accuracy=46.7, loss=3.04\n",
      "Train: wpb=2048, num_updates=7000, accuracy=46.6, loss=3.04\n",
      "Train: wpb=2048, num_updates=8000, accuracy=46.6, loss=3.04\n",
      "Train: wpb=2048, num_updates=9000, accuracy=46.6, loss=3.04\n",
      "Train: wpb=2048, num_updates=10000, accuracy=46.6, loss=3.05\n",
      "Train: wpb=2048, num_updates=11000, accuracy=46.6, loss=3.05\n",
      "Train: wpb=2048, num_updates=12000, accuracy=46.6, loss=3.05\n",
      "Train: wpb=2048, num_updates=13000, accuracy=46.6, loss=3.05\n",
      "Train: wpb=2048, num_updates=14000, accuracy=46.6, loss=3.05\n",
      "Train: wpb=2048, num_updates=15000, accuracy=46.6, loss=3.05\n",
      "Train: wpb=2048, num_updates=16000, accuracy=46.6, loss=3.05\n",
      "Train: wpb=2048, num_updates=17000, accuracy=46.6, loss=3.05\n",
      "Train: wpb=2048, num_updates=18000, accuracy=46.6, loss=3.05\n",
      "Train: wpb=2048, num_updates=19000, accuracy=46.6, loss=3.05\n",
      "Train: wpb=2048, num_updates=20000, accuracy=46.6, loss=3.05\n",
      "Train: wpb=2048, num_updates=21000, accuracy=46.6, loss=3.05\n",
      "Train: wpb=2048, num_updates=22000, accuracy=46.6, loss=3.06\n",
      "Train: wpb=2048, num_updates=23000, accuracy=46.6, loss=3.06\n",
      "Train: wpb=2048, num_updates=24000, accuracy=46.6, loss=3.06\n",
      "Train: wpb=2048, num_updates=25000, accuracy=46.6, loss=3.06\n",
      "Train: wpb=2048, num_updates=26000, accuracy=46.6, loss=3.06\n",
      "Train: wpb=2048, num_updates=27000, accuracy=46.6, loss=3.06\n",
      "Train: wpb=2048, num_updates=28000, accuracy=46.6, loss=3.06\n",
      "Train: wpb=2048, num_updates=29000, accuracy=46.6, loss=3.06\n",
      "Train: wpb=2048, num_updates=30000, accuracy=46.6, loss=3.06\n",
      "Train: wpb=2048, num_updates=31000, accuracy=46.6, loss=3.06\n",
      "Train: wpb=2048, num_updates=32000, accuracy=46.6, loss=3.06\n",
      "Train: wpb=2048, num_updates=33000, accuracy=46.6, loss=3.06\n",
      "Train: wpb=2048, num_updates=34000, accuracy=46.6, loss=3.06\n",
      "Train: wpb=2048, num_updates=35000, accuracy=46.6, loss=3.06\n",
      "Train: wpb=2048, num_updates=36000, accuracy=46.6, loss=3.06\n",
      "Train: wpb=2048, num_updates=37000, accuracy=46.7, loss=3.06\n",
      "Train: wpb=2048, num_updates=38000, accuracy=46.7, loss=3.06\n",
      "Train: wpb=2048, num_updates=39000, accuracy=46.7, loss=3.06\n",
      "Train: wpb=2048, num_updates=40000, accuracy=46.7, loss=3.06\n",
      "Train: wpb=2047, num_updates=40178, accuracy=46.7, loss=3.06\n",
      "| epoch 003 | train accuracy=46.7%, train loss=3.06\n",
      "| epoch 003 | valid accuracy=45.5%, valid loss=3.21 (wikipedia)\n",
      "| epoch 003 | valid accuracy=34.9%, valid loss=4.13 (El Periódico)\n"
     ]
    }
   ],
   "source": [
    "optimizer = torch.optim.Adam(model.parameters())\n",
    "criterion = nn.CrossEntropyLoss(reduction='sum')\n",
    "\n",
    "train_accuracy = []\n",
    "wiki_accuracy = []\n",
    "valid_accuracy = []\n",
    "for epoch in range(params.epochs):\n",
    "    acc, loss = train(model, criterion, optimizer, data[0][0], data[0][1], params.batch_size, device, log=True)\n",
    "    train_accuracy.append(acc)\n",
    "    print(f'| epoch {epoch:03d} | train accuracy={acc:.1f}%, train loss={loss:.2f}')\n",
    "    acc, loss = validate(model, criterion, data[1][0], data[1][1], params.batch_size, device)\n",
    "    wiki_accuracy.append(acc)\n",
    "    print(f'| epoch {epoch:03d} | valid accuracy={acc:.1f}%, valid loss={loss:.2f} (wikipedia)')\n",
    "    acc, loss = validate(model, criterion, valid_x, valid_y, params.batch_size, device)\n",
    "    valid_accuracy.append(acc)\n",
    "    print(f'| epoch {epoch:03d} | valid accuracy={acc:.1f}%, valid loss={loss:.2f} (El Periódico)')\n",
    "\n",
    "# Save model\n",
    "torch.save(model.state_dict(), params.modelname)"
   ]
  },
  {
   "cell_type": "code",
   "execution_count": 20,
   "id": "cd63b344",
   "metadata": {
    "_cell_guid": "5536badf-00c7-48f8-a735-8668b29419a8",
    "_uuid": "4a99baf8-f1d8-4480-99db-61e4869c7ed1",
    "collapsed": false,
    "execution": {
     "iopub.execute_input": "2025-02-26T17:08:18.316549Z",
     "iopub.status.busy": "2025-02-26T17:08:18.316033Z",
     "iopub.status.idle": "2025-02-26T17:08:18.628312Z",
     "shell.execute_reply": "2025-02-26T17:08:18.627567Z"
    },
    "jupyter": {
     "outputs_hidden": false
    },
    "papermill": {
     "duration": 0.327215,
     "end_time": "2025-02-26T17:08:18.629877",
     "exception": false,
     "start_time": "2025-02-26T17:08:18.302662",
     "status": "completed"
    },
    "tags": []
   },
   "outputs": [],
   "source": [
    "# 'El Periodico' test dataset\n",
    "valid_x_df = pd.read_csv(f'{COMPETITION_ROOT}/x_test.csv')\n",
    "test_x = valid_x_df[tokens].apply(vocab.get_index).to_numpy(dtype='int32')\n",
    "y_pred = validate(model, None, test_x, None, params.batch_size, device)\n",
    "y_token = [vocab.get_token(index) for index in y_pred]"
   ]
  },
  {
   "cell_type": "code",
   "execution_count": 21,
   "id": "5fd2f8ea",
   "metadata": {
    "_cell_guid": "fcfc1448-13de-4446-9e03-bf4f02a61024",
    "_uuid": "5adc4ee9-983b-446b-986c-731d4d7249a7",
    "collapsed": false,
    "execution": {
     "iopub.execute_input": "2025-02-26T17:08:18.732379Z",
     "iopub.status.busy": "2025-02-26T17:08:18.732022Z",
     "iopub.status.idle": "2025-02-26T17:08:18.764826Z",
     "shell.execute_reply": "2025-02-26T17:08:18.763784Z"
    },
    "jupyter": {
     "outputs_hidden": false
    },
    "papermill": {
     "duration": 0.123766,
     "end_time": "2025-02-26T17:08:18.766517",
     "exception": false,
     "start_time": "2025-02-26T17:08:18.642751",
     "status": "completed"
    },
    "tags": []
   },
   "outputs": [
    {
     "name": "stdout",
     "output_type": "stream",
     "text": [
      "   id  token\n",
      "0   0      l\n",
      "1   1      s\n",
      "2   2  haver\n",
      "3   3      s\n",
      "4   4     el\n"
     ]
    }
   ],
   "source": [
    "submission = pd.DataFrame({'id':valid_x_df['id'], 'token': y_token}, columns=['id', 'token'])\n",
    "print(submission.head())\n",
    "submission.to_csv('submission.csv', index=False)"
   ]
  }
 ],
 "metadata": {
  "kaggle": {
   "accelerator": "gpu",
   "dataSources": [
    {
     "databundleVersionId": 10947297,
     "sourceId": 92047,
     "sourceType": "competition"
    },
    {
     "sourceId": 220985820,
     "sourceType": "kernelVersion"
    }
   ],
   "isGpuEnabled": true,
   "isInternetEnabled": true,
   "language": "python",
   "sourceType": "notebook"
  },
  "kernelspec": {
   "display_name": "Python 3",
   "language": "python",
   "name": "python3"
  },
  "language_info": {
   "codemirror_mode": {
    "name": "ipython",
    "version": 3
   },
   "file_extension": ".py",
   "mimetype": "text/x-python",
   "name": "python",
   "nbconvert_exporter": "python",
   "pygments_lexer": "ipython3",
   "version": "3.10.12"
  },
  "papermill": {
   "default_parameters": {},
   "duration": 12996.447871,
   "end_time": "2025-02-26T17:08:20.516383",
   "environment_variables": {},
   "exception": null,
   "input_path": "__notebook__.ipynb",
   "output_path": "__notebook__.ipynb",
   "parameters": {},
   "start_time": "2025-02-26T13:31:44.068512",
   "version": "2.6.0"
  }
 },
 "nbformat": 4,
 "nbformat_minor": 5
}
